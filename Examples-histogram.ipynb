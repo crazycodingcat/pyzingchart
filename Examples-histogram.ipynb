{
 "cells": [
  {
   "cell_type": "code",
   "execution_count": 24,
   "metadata": {
    "collapsed": false
   },
   "outputs": [
    {
     "name": "stdout",
     "output_type": "stream",
     "text": [
      "The autoreload extension is already loaded. To reload it, use:\n",
      "  %reload_ext autoreload\n"
     ]
    }
   ],
   "source": [
    "%matplotlib inline\n",
    "%load_ext autoreload\n",
    "%autoreload 2"
   ]
  },
  {
   "cell_type": "code",
   "execution_count": 25,
   "metadata": {
    "collapsed": true
   },
   "outputs": [],
   "source": [
    "import matplotlib.pyplot as plt\n",
    "from zingchart import utils, plots\n",
    "import pandas as pd\n",
    "from uuid import uuid4"
   ]
  },
  {
   "cell_type": "code",
   "execution_count": 26,
   "metadata": {
    "collapsed": true
   },
   "outputs": [],
   "source": [
    "## sample data - iris from sklearn\n",
    "iris = pd.read_csv(\"data/iris.csv\")"
   ]
  },
  {
   "cell_type": "markdown",
   "metadata": {},
   "source": [
    "### plot histogram of a series"
   ]
  },
  {
   "cell_type": "code",
   "execution_count": 60,
   "metadata": {
    "collapsed": false
   },
   "outputs": [
    {
     "data": {
      "text/html": [
       "<script src=\"zingchart_js/zingchart.min.js\"></script><script>zingchart.MODULESDIR=\"zingchart_js/modules/\";</script><div id='61712bdf-0530-4ee0-8983-bf86cbb1e129'></div>\n",
       "        <script>\n",
       "            zingchart.render({\n",
       "            id:'61712bdf-0530-4ee0-8983-bf86cbb1e129',\n",
       "            height:400,\n",
       "            width:600,\n",
       "            data:{\"graphset\": [{\"series\": [{\"values\": [9, 23, 14, 27, 16, 26, 18, 6, 5, 6]}], \"scale-x\": {\"values\": [4.3, 4.66, 5.02, 5.38, 5.74, 6.1, 6.46, 6.82, 7.18, 7.54, 7.9]}, \"type\": \"bar\", \"tooltip\": {\"border-radius\": \"8px\", \"font-size\": \"12px\", \"text\": \"<b>Value: %k</b><br><b>Count: %v</b>\", \"padding\": \"5px 5px\", \"alpha\": 0.9, \"text-align\": \"left\"}, \"title\": {\"text\": \"Histogram\", \"background-color\": \"none\", \"font-color\": \"#000000\"}}], \"background-color\": \"#3F5666\"}\n",
       "          });\n",
       "        </script>\n",
       "    "
      ],
      "text/plain": [
       "<IPython.core.display.HTML object>"
      ]
     },
     "execution_count": 60,
     "metadata": {},
     "output_type": "execute_result"
    }
   ],
   "source": [
    "plot_data = plots.histogram(iris['sepal length (cm)'])\n",
    "utils.ipython_plot_zing_data(plot_data, uuid4())"
   ]
  },
  {
   "cell_type": "code",
   "execution_count": 31,
   "metadata": {
    "collapsed": false
   },
   "outputs": [
    {
     "data": {
      "text/html": [
       "<script src=\"zingchart_js/zingchart.min.js\"></script><script>zingchart.MODULESDIR=\"zingchart_js/modules/\";</script><div id='61e49207-982c-4a22-b67b-18b6519cb63a'></div>\n",
       "        <script>\n",
       "            zingchart.render({\n",
       "            id:'61e49207-982c-4a22-b67b-18b6519cb63a',\n",
       "            height:400,\n",
       "            width:600,\n",
       "            data:{\"series\": [{\"values\": [4, 5, 7, 16, 9, 5, 13, 14, 10, 6, 10, 16, 7, 11, 4, 2, 4, 1, 5, 1]}], \"scale-x\": {\"values\": [4.3, 4.48, 4.66, 4.84, 5.02, 5.2, 5.38, 5.56, 5.74, 5.92, 6.1, 6.28, 6.46, 6.64, 6.82, 7.0, 7.18, 7.36, 7.54, 7.72, 7.9]}, \"type\": \"bar\", \"tooltip\": {\"border-radius\": \"8px\", \"font-size\": \"12px\", \"text\": \"<b>Value: %k</b><br><b>Count: %v</b>\", \"padding\": \"5px 5px\", \"alpha\": 0.9, \"text-align\": \"left\"}}\n",
       "          });\n",
       "        </script>\n",
       "    "
      ],
      "text/plain": [
       "<IPython.core.display.HTML object>"
      ]
     },
     "execution_count": 31,
     "metadata": {},
     "output_type": "execute_result"
    }
   ],
   "source": [
    "plot_data = plots.histogram(iris['sepal length (cm)'], bins=20)\n",
    "utils.ipython_plot_zing_data(plot_data, uuid4())"
   ]
  },
  {
   "cell_type": "markdown",
   "metadata": {},
   "source": [
    "## pass a dataframe"
   ]
  },
  {
   "cell_type": "code",
   "execution_count": 59,
   "metadata": {
    "collapsed": false
   },
   "outputs": [
    {
     "data": {
      "text/html": [
       "<script src=\"zingchart_js/zingchart.min.js\"></script><script>zingchart.MODULESDIR=\"zingchart_js/modules/\";</script><div id='6080c3dd-707c-4b73-918b-c62de1168da0'></div>\n",
       "        <script>\n",
       "            zingchart.render({\n",
       "            id:'6080c3dd-707c-4b73-918b-c62de1168da0',\n",
       "            height:400,\n",
       "            width:600,\n",
       "            data:{\"graphset\": [{\"series\": [{\"values\": [4, 5, 7, 16, 9, 5, 13, 14, 10, 6, 10, 16, 7, 11, 4, 2, 4, 1, 5, 1]}], \"scale-x\": {\"values\": [4.3, 4.48, 4.66, 4.84, 5.02, 5.2, 5.38, 5.56, 5.74, 5.92, 6.1, 6.28, 6.46, 6.64, 6.82, 7.0, 7.18, 7.36, 7.54, 7.72, 7.9]}, \"type\": \"bar\", \"tooltip\": {\"border-radius\": \"8px\", \"font-size\": \"12px\", \"text\": \"<b>Value: %k</b><br><b>Count: %v</b>\", \"padding\": \"5px 5px\", \"alpha\": 0.9, \"text-align\": \"left\"}, \"title\": {\"text\": \"sepal length (cm)\", \"background-color\": \"none\", \"font-color\": \"#000000\"}}, {\"series\": [{\"values\": [1, 3, 4, 3, 8, 14, 14, 10, 26, 12, 19, 12, 6, 3, 9, 2, 1, 1, 1, 1]}], \"scale-x\": {\"values\": [2.0, 2.12, 2.24, 2.36, 2.48, 2.6, 2.72, 2.84, 2.96, 3.08, 3.2, 3.32, 3.44, 3.56, 3.68, 3.8, 3.92, 4.04, 4.16, 4.28, 4.4]}, \"type\": \"bar\", \"tooltip\": {\"border-radius\": \"8px\", \"font-size\": \"12px\", \"text\": \"<b>Value: %k</b><br><b>Count: %v</b>\", \"padding\": \"5px 5px\", \"alpha\": 0.9, \"text-align\": \"left\"}, \"title\": {\"text\": \"sepal width (cm)\", \"background-color\": \"none\", \"font-color\": \"#000000\"}}, {\"series\": [{\"values\": [4, 33, 11, 2, 0, 0, 1, 2, 3, 5, 12, 14, 12, 17, 6, 12, 7, 4, 2, 3]}], \"scale-x\": {\"values\": [1.0, 1.3, 1.59, 1.89, 2.18, 2.48, 2.77, 3.07, 3.36, 3.66, 3.95, 4.25, 4.54, 4.84, 5.13, 5.43, 5.72, 6.02, 6.31, 6.6, 6.9]}, \"type\": \"bar\", \"tooltip\": {\"border-radius\": \"8px\", \"font-size\": \"12px\", \"text\": \"<b>Value: %k</b><br><b>Count: %v</b>\", \"padding\": \"5px 5px\", \"alpha\": 0.9, \"text-align\": \"left\"}, \"title\": {\"text\": \"petal length (cm)\", \"background-color\": \"none\", \"font-color\": \"#000000\"}}, {\"series\": [{\"values\": [34, 7, 7, 1, 1, 0, 0, 7, 3, 5, 21, 12, 4, 2, 12, 11, 6, 3, 8, 6]}], \"scale-x\": {\"values\": [0.1, 0.22, 0.34, 0.46, 0.58, 0.7, 0.82, 0.94, 1.06, 1.18, 1.3, 1.42, 1.54, 1.66, 1.78, 1.9, 2.02, 2.14, 2.26, 2.38, 2.5]}, \"type\": \"bar\", \"tooltip\": {\"border-radius\": \"8px\", \"font-size\": \"12px\", \"text\": \"<b>Value: %k</b><br><b>Count: %v</b>\", \"padding\": \"5px 5px\", \"alpha\": 0.9, \"text-align\": \"left\"}, \"title\": {\"text\": \"petal width (cm)\", \"background-color\": \"none\", \"font-color\": \"#000000\"}}], \"background-color\": \"#3F5666\"}\n",
       "          });\n",
       "        </script>\n",
       "    "
      ],
      "text/plain": [
       "<IPython.core.display.HTML object>"
      ]
     },
     "execution_count": 59,
     "metadata": {},
     "output_type": "execute_result"
    }
   ],
   "source": [
    "plot_data = plots.histogram(iris.iloc[:,:4], bins=20)\n",
    "utils.ipython_plot_zing_data(plot_data, uuid4())"
   ]
  },
  {
   "cell_type": "markdown",
   "metadata": {},
   "source": [
    "## pass a dict of series"
   ]
  },
  {
   "cell_type": "code",
   "execution_count": 61,
   "metadata": {
    "collapsed": true
   },
   "outputs": [],
   "source": [
    "data = {}\n",
    "for f, df in iris.groupby(\"flower_type\"):\n",
    "    data[f] = df[\"sepal length (cm)\"]"
   ]
  },
  {
   "cell_type": "code",
   "execution_count": 65,
   "metadata": {
    "collapsed": false
   },
   "outputs": [
    {
     "data": {
      "text/html": [
       "<script src=\"zingchart_js/zingchart.min.js\"></script><script>zingchart.MODULESDIR=\"zingchart_js/modules/\";</script><div id='0dff8443-9036-4069-a66b-8a3936c054d8'></div>\n",
       "        <script>\n",
       "            zingchart.render({\n",
       "            id:'0dff8443-9036-4069-a66b-8a3936c054d8',\n",
       "            height:400,\n",
       "            width:600,\n",
       "            data:{\"graphset\": [{\"series\": [{\"values\": [4, 1, 6, 5, 12, 8, 4, 5, 2, 3]}], \"scale-x\": {\"values\": [4.3, 4.45, 4.6, 4.75, 4.9, 5.05, 5.2, 5.35, 5.5, 5.65, 5.8]}, \"type\": \"bar\", \"tooltip\": {\"border-radius\": \"8px\", \"font-size\": \"12px\", \"text\": \"<b>Value: %k</b><br><b>Count: %v</b>\", \"padding\": \"5px 5px\", \"alpha\": 0.9, \"text-align\": \"left\"}, \"title\": {\"text\": \"setosa\", \"background-color\": \"none\", \"font-color\": \"#000000\"}}, {\"series\": [{\"values\": [4, 1, 6, 10, 5, 8, 5, 3, 5, 3]}], \"scale-x\": {\"values\": [4.9, 5.11, 5.32, 5.53, 5.74, 5.95, 6.16, 6.37, 6.58, 6.79, 7.0]}, \"type\": \"bar\", \"tooltip\": {\"border-radius\": \"8px\", \"font-size\": \"12px\", \"text\": \"<b>Value: %k</b><br><b>Count: %v</b>\", \"padding\": \"5px 5px\", \"alpha\": 0.9, \"text-align\": \"left\"}, \"title\": {\"text\": \"versicolor\", \"background-color\": \"none\", \"font-color\": \"#000000\"}}, {\"series\": [{\"values\": [1, 0, 5, 5, 8, 9, 10, 5, 1, 6]}], \"scale-x\": {\"values\": [4.9, 5.2, 5.5, 5.8, 6.1, 6.4, 6.7, 7.0, 7.3, 7.6, 7.9]}, \"type\": \"bar\", \"tooltip\": {\"border-radius\": \"8px\", \"font-size\": \"12px\", \"text\": \"<b>Value: %k</b><br><b>Count: %v</b>\", \"padding\": \"5px 5px\", \"alpha\": 0.9, \"text-align\": \"left\"}, \"title\": {\"text\": \"virginica\", \"background-color\": \"none\", \"font-color\": \"#000000\"}}], \"background-color\": \"#3F5666\"}\n",
       "          });\n",
       "        </script>\n",
       "    "
      ],
      "text/plain": [
       "<IPython.core.display.HTML object>"
      ]
     },
     "execution_count": 65,
     "metadata": {},
     "output_type": "execute_result"
    }
   ],
   "source": [
    "plot_data = plots.histogram(data, bins=10)\n",
    "utils.ipython_plot_zing_data(plot_data, uuid4())"
   ]
  }
 ],
 "metadata": {
  "kernelspec": {
   "display_name": "Python 2",
   "language": "python",
   "name": "python2"
  },
  "language_info": {
   "codemirror_mode": {
    "name": "ipython",
    "version": 2
   },
   "file_extension": ".py",
   "mimetype": "text/x-python",
   "name": "python",
   "nbconvert_exporter": "python",
   "pygments_lexer": "ipython2",
   "version": "2.7.6"
  }
 },
 "nbformat": 4,
 "nbformat_minor": 0
}
