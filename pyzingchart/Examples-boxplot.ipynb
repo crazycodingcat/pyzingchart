{
 "cells": [
  {
   "cell_type": "code",
   "execution_count": 1,
   "metadata": {
    "collapsed": false
   },
   "outputs": [],
   "source": [
    "%matplotlib inline\n",
    "%load_ext autoreload\n",
    "%autoreload 2"
   ]
  },
  {
   "cell_type": "code",
   "execution_count": 2,
   "metadata": {
    "collapsed": true
   },
   "outputs": [],
   "source": [
    "import matplotlib.pyplot as plt\n",
    "from zingchart import utils, plots\n",
    "import pandas as pd\n",
    "from uuid import uuid4"
   ]
  },
  {
   "cell_type": "code",
   "execution_count": 3,
   "metadata": {
    "collapsed": false
   },
   "outputs": [],
   "source": [
    "## sample data - iris from sklearn\n",
    "iris = pd.read_csv(\"data/iris.csv\")"
   ]
  },
  {
   "cell_type": "code",
   "execution_count": 4,
   "metadata": {
    "collapsed": false
   },
   "outputs": [
    {
     "data": {
      "text/html": [
       "<script src=\"zingchart_js/zingchart.min.js\"></script><script>zingchart.MODULESDIR=\"zingchart_js/modules/\";</script><div id='93151bc9-7eb3-4fc0-86b7-b2a7be4520da'></div>\n",
       "        <script>\n",
       "            zingchart.render({\n",
       "            id:'93151bc9-7eb3-4fc0-86b7-b2a7be4520da',\n",
       "            height:400,\n",
       "            width:600,\n",
       "            data:{\"series\": [{\"values\": [35, 42, 67, 89, 25, 34, 67, 85]}, {\"values\": [28, 57, 43, 56, 78, 99, 67, 28]}], \"type\": \"bar\"}\n",
       "          });\n",
       "        </script>\n",
       "    "
      ],
      "text/plain": [
       "<IPython.core.display.HTML object>"
      ]
     },
     "execution_count": 4,
     "metadata": {},
     "output_type": "execute_result"
    }
   ],
   "source": [
    "plot_data = {\"type\": \"bar\" \n",
    "       , \"series\": [\n",
    "        {\"values\": [35, 42, 67, 89, 25, 34, 67, 85 ]}\n",
    "        , {\"values\": [28, 57, 43, 56, 78, 99, 67, 28 ]}]}\n",
    "\n",
    "utils.ipython_plot_zing_data(plot_data, uuid4())"
   ]
  },
  {
   "cell_type": "markdown",
   "metadata": {},
   "source": [
    "### boxplot"
   ]
  },
  {
   "cell_type": "code",
   "execution_count": 5,
   "metadata": {
    "collapsed": false
   },
   "outputs": [
    {
     "data": {
      "text/html": [
       "<script src=\"zingchart_js/zingchart.min.js\"></script><script>zingchart.MODULESDIR=\"zingchart_js/modules/\";</script><div id='pp'></div>\n",
       "        <script>\n",
       "            zingchart.render({\n",
       "            id:'pp',\n",
       "            height:400,\n",
       "            width:600,\n",
       "            data:{\"scaleX\": {\"values\": [\"sepal length (cm)\", \"sepal width (cm)\"]}, \"type\": \"boxplot\", \"options\": null, \"series\": [{\"data-box\": [[3.1499999999999986, 5.0999999999999996, 5.7999999999999998, 6.4000000000000004, 8.3500000000000014], [2.0499999999999998, 2.7999999999999998, 3.0, 3.2999999999999998, 4.0499999999999998]], \"data-outlier\": [[1, 4.4000000000000004], [1, 4.0999999999999996], [1, 4.2000000000000002], [1, 2.0]]}]}\n",
       "          });\n",
       "        </script>\n",
       "    "
      ],
      "text/plain": [
       "<IPython.core.display.HTML object>"
      ]
     },
     "execution_count": 5,
     "metadata": {},
     "output_type": "execute_result"
    }
   ],
   "source": [
    "plot_data = plots.boxplot(iris[['sepal length (cm)', 'sepal width (cm)']])\n",
    "utils.ipython_plot_zing_data(plot_data, \"pp\")"
   ]
  },
  {
   "cell_type": "code",
   "execution_count": 6,
   "metadata": {
    "collapsed": false
   },
   "outputs": [
    {
     "data": {
      "text/html": [
       "<script src=\"zingchart_js/zingchart.min.js\"></script><script>zingchart.MODULESDIR=\"zingchart_js/modules/\";</script><div id='pppp'></div>\n",
       "        <script>\n",
       "            zingchart.render({\n",
       "            id:'pppp',\n",
       "            height:400,\n",
       "            width:600,\n",
       "            data:{\"scaleY\": {\"label\": {\"text\": \"CM\"}}, \"scaleX\": {\"values\": [\"sepal length (cm)\", \"sepal width (cm)\", \"petal length (cm)\", \"petal width (cm)\"]}, \"type\": \"boxplot\", \"options\": null, \"series\": [{\"data-box\": [[3.1499999999999986, 5.0999999999999996, 5.7999999999999998, 6.4000000000000004, 8.3500000000000014], [2.0499999999999998, 2.7999999999999998, 3.0, 3.2999999999999998, 4.0499999999999998], [-3.649999999999999, 1.6000000000000001, 4.3499999999999996, 5.0999999999999996, 10.349999999999998], [-1.95, 0.29999999999999999, 1.3, 1.8, 4.0499999999999998]], \"data-outlier\": [[1, 4.4000000000000004], [1, 4.0999999999999996], [1, 4.2000000000000002], [1, 2.0]]}]}\n",
       "          });\n",
       "        </script>\n",
       "    "
      ],
      "text/plain": [
       "<IPython.core.display.HTML object>"
      ]
     },
     "execution_count": 6,
     "metadata": {},
     "output_type": "execute_result"
    }
   ],
   "source": [
    "plot_data = plots.boxplot(data = iris, kind = \"boxplot\", \n",
    "                          options = None, plot_options={\"scaleY\":{\"label\": {\"text\": \"CM\"}}})\n",
    "utils.ipython_plot_zing_data(plot_data, \"pppp\")"
   ]
  },
  {
   "cell_type": "code",
   "execution_count": 7,
   "metadata": {
    "collapsed": false
   },
   "outputs": [
    {
     "data": {
      "text/html": [
       "<script src=\"zingchart_js/zingchart.min.js\"></script><script>zingchart.MODULESDIR=\"zingchart_js/modules/\";</script><div id='pdict'></div>\n",
       "        <script>\n",
       "            zingchart.render({\n",
       "            id:'pdict',\n",
       "            height:400,\n",
       "            width:600,\n",
       "            data:{\"plot\": {\"selection-mode\": \"multiple\"}, \"series\": [{\"data-box\": [[4.1999999999999993, 4.7999999999999998, 5.0, 5.2000000000000002, 5.8000000000000007], [4.5499999999999989, 5.5999999999999996, 5.9000000000000004, 6.2999999999999998, 7.3499999999999996], [5.2125000000000004, 6.2250000000000005, 6.5, 6.9000000000000004, 7.9124999999999996]], \"data-outlier\": [[2, 4.9000000000000004]]}], \"type\": \"boxplot\", \"scaleX\": {\"values\": [\"setosa\", \"versicolor\", \"virginica\"]}, \"options\": null, \"scaleY\": {\"label\": {\"text\": \"sepal length (cm)\"}}}\n",
       "          });\n",
       "        </script>\n",
       "    "
      ],
      "text/plain": [
       "<IPython.core.display.HTML object>"
      ]
     },
     "execution_count": 7,
     "metadata": {},
     "output_type": "execute_result"
    }
   ],
   "source": [
    "data = {}\n",
    "for f, df in iris.groupby(\"flower_type\"):\n",
    "    data[f] = df[\"sepal length (cm)\"]\n",
    "\n",
    "    \n",
    "plot_data = plots.boxplot(data = data, plot_options = {\"scaleY\": {\"label\": {\"text\": \"sepal length (cm)\"}}\n",
    "                                                      , \"plot\": {\"selection-mode\": \"multiple\"}})\n",
    "utils.ipython_plot_zing_data(plot_data, \"pdict\")"
   ]
  },
  {
   "cell_type": "code",
   "execution_count": 8,
   "metadata": {
    "collapsed": false,
    "scrolled": false
   },
   "outputs": [
    {
     "data": {
      "text/html": [
       "<script src=\"zingchart_js/zingchart.min.js\"></script><script>zingchart.MODULESDIR=\"zingchart_js/modules/\";</script><div id='ppdict'></div>\n",
       "        <script>\n",
       "            zingchart.render({\n",
       "            id:'ppdict',\n",
       "            height:400,\n",
       "            width:600,\n",
       "            data:{\"scaleY\": {\"label\": {\"text\": \"sepal length (cm)\"}}, \"scaleX\": {\"values\": [\"orange\", \"apple\"]}, \"type\": \"boxplot\", \"options\": null, \"series\": [{\"data-box\": [[-9.5, 4.75, 9.5, 14.25, 28.5], [-4.5, 2.25, 4.5, 6.75, 13.5]], \"data-outlier\": []}]}\n",
       "          });\n",
       "        </script>\n",
       "    "
      ],
      "text/plain": [
       "<IPython.core.display.HTML object>"
      ]
     },
     "execution_count": 8,
     "metadata": {},
     "output_type": "execute_result"
    }
   ],
   "source": [
    "plot_data = plots.boxplot(data = {\"apple\": pd.Series(range(10)), \n",
    "                                  \"orange\": pd.Series(range(20))}, plot_options = {\"scaleY\": {\"label\": {\"text\": \"sepal length (cm)\"}}})\n",
    "utils.ipython_plot_zing_data(plot_data, \"ppdict\")"
   ]
  },
  {
   "cell_type": "code",
   "execution_count": null,
   "metadata": {
    "collapsed": true
   },
   "outputs": [],
   "source": []
  },
  {
   "cell_type": "code",
   "execution_count": null,
   "metadata": {
    "collapsed": true
   },
   "outputs": [],
   "source": []
  }
 ],
 "metadata": {
  "kernelspec": {
   "display_name": "Python 2",
   "language": "python",
   "name": "python2"
  },
  "language_info": {
   "codemirror_mode": {
    "name": "ipython",
    "version": 2
   },
   "file_extension": ".py",
   "mimetype": "text/x-python",
   "name": "python",
   "nbconvert_exporter": "python",
   "pygments_lexer": "ipython2",
   "version": "2.7.6"
  }
 },
 "nbformat": 4,
 "nbformat_minor": 0
}
