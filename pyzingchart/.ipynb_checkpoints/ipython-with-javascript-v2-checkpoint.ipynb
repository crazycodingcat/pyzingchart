{
 "cells": [
  {
   "cell_type": "markdown",
   "metadata": {},
   "source": [
    "### New notes taken from latest [tutorial](https://bitbucket.org/hrojas/dc.js-in-ipython-notebooks) on how ipython notebook interacts with dc.js"
   ]
  },
  {
   "cell_type": "markdown",
   "metadata": {},
   "source": [
    "##Learning Notes\n",
    "\n",
    "### 1. Use `<iframe>` to host HTML - help resolve the duplicated tag-id issue\n",
    "### 2. The hosted page is an integrated html, including `<head>` and `<body>`\n",
    "### 3. Use jinja2 to interplot the strings"
   ]
  },
  {
   "cell_type": "code",
   "execution_count": 1,
   "metadata": {
    "collapsed": true
   },
   "outputs": [],
   "source": [
    "import pandas as pd\n",
    "import jinja2 \n",
    "from IPython.display import display, Javascript, HTML"
   ]
  },
  {
   "cell_type": "code",
   "execution_count": 3,
   "metadata": {
    "collapsed": true
   },
   "outputs": [],
   "source": [
    "def iframe(stuff):\n",
    "    return HTML(\"\"\"<iframe srcdoc='{srcdoc}' style='width:100%; height: 80%; border: none'></iframe>\"\"\"\n",
    "                .format(srcdoc = stuff))"
   ]
  },
  {
   "cell_type": "code",
   "execution_count": 6,
   "metadata": {
    "collapsed": true
   },
   "outputs": [],
   "source": [
    "header = HTML(\"\"\"\n",
    "<head>\n",
    "    <link>\n",
    "</head>\n",
    "\"\"\")"
   ]
  },
  {
   "cell_type": "code",
   "execution_count": null,
   "metadata": {
    "collapsed": true
   },
   "outputs": [],
   "source": []
  }
 ],
 "metadata": {
  "kernelspec": {
   "display_name": "Python 2",
   "language": "python",
   "name": "python2"
  },
  "language_info": {
   "codemirror_mode": {
    "name": "ipython",
    "version": 2
   },
   "file_extension": ".py",
   "mimetype": "text/x-python",
   "name": "python",
   "nbconvert_exporter": "python",
   "pygments_lexer": "ipython2",
   "version": "2.7.6"
  }
 },
 "nbformat": 4,
 "nbformat_minor": 0
}
