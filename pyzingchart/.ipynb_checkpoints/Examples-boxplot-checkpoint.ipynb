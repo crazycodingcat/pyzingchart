{
 "cells": [
  {
   "cell_type": "code",
   "execution_count": 1,
   "metadata": {
    "collapsed": false
   },
   "outputs": [],
   "source": [
    "%matplotlib inline\n",
    "%load_ext autoreload\n",
    "%autoreload 2"
   ]
  },
  {
   "cell_type": "code",
   "execution_count": 15,
   "metadata": {
    "collapsed": false
   },
   "outputs": [],
   "source": [
    "import matplotlib.pyplot as plt\n",
    "from zingchart import plots\n",
    "import utils\n",
    "import pandas as pd"
   ]
  },
  {
   "cell_type": "code",
   "execution_count": 16,
   "metadata": {
    "collapsed": false
   },
   "outputs": [],
   "source": [
    "## sample data - iris from sklearn\n",
    "iris = pd.read_csv(\"../data/iris.csv\")"
   ]
  },
  {
   "cell_type": "code",
   "execution_count": 34,
   "metadata": {
    "collapsed": false
   },
   "outputs": [
    {
     "data": {
      "text/html": [
       "<iframe srcdoc=\"\n",
       "    <head>\n",
       "        <script src=&quot;http://cdn.zingchart.com/zingchart.min.js&quot;></script>\n",
       "        <script>zingchart.MODULESDIR=&quot;http://cdn.zingchart.com/modules/&quot;;</script>\n",
       "    </head>\n",
       "    <div id=&quot;zingchart-plot&quot;></div><script>\n",
       "    zingchart.render({\n",
       "        &quot;id&quot;: &quot;zingchart-plot&quot;\n",
       "        , &quot;width&quot;: 600\n",
       "        , &quot;height&quot;: 400\n",
       "        , &quot;data&quot;: {&quot;series&quot;: [{&quot;values&quot;: [35, 42, 67, 89, 25, 34, 67, 85]}, {&quot;values&quot;: [28, 57, 43, 56, 78, 99, 67, 28]}], &quot;type&quot;: &quot;line&quot;}\n",
       "    });\n",
       "    </script>\" style='width:100%; height: 500px; border: none'></iframe>"
      ],
      "text/plain": [
       "<IPython.core.display.HTML object>"
      ]
     },
     "execution_count": 34,
     "metadata": {},
     "output_type": "execute_result"
    }
   ],
   "source": [
    "plot_data = {\"type\": \"line\" \n",
    "       , \"series\": [\n",
    "        {\"values\": [35, 42, 67, 89, 25, 34, 67, 85 ]}\n",
    "        , {\"values\": [28, 57, 43, 56, 78, 99, 67, 28 ]}]}\n",
    "\n",
    "utils.ipython_plot_zingchart(plot_data)"
   ]
  },
  {
   "cell_type": "markdown",
   "metadata": {},
   "source": [
    "### boxplot"
   ]
  },
  {
   "cell_type": "code",
   "execution_count": 30,
   "metadata": {
    "collapsed": false
   },
   "outputs": [
    {
     "data": {
      "text/html": [
       "<iframe srcdoc=\"\n",
       "    <head>\n",
       "        <script src=&quot;http://cdn.zingchart.com/zingchart.min.js&quot;></script>\n",
       "        <script>zingchart.MODULESDIR=&quot;http://cdn.zingchart.com/modules/&quot;;</script>\n",
       "    </head>\n",
       "    <div id=&quot;zingchart-plot&quot;></div><script>\n",
       "    zingchart.render({\n",
       "        &quot;id&quot;: &quot;zingchart-plot&quot;\n",
       "        , &quot;width&quot;: 600\n",
       "        , &quot;height&quot;: 400\n",
       "        , &quot;data&quot;: {&quot;scaleX&quot;: {&quot;values&quot;: [&quot;sepal length (cm)&quot;, &quot;sepal width (cm)&quot;]}, &quot;type&quot;: &quot;boxplot&quot;, &quot;options&quot;: null, &quot;series&quot;: [{&quot;data-box&quot;: [[3.1499999999999986, 5.0999999999999996, 5.7999999999999998, 6.4000000000000004, 8.3500000000000014], [2.0499999999999998, 2.7999999999999998, 3.0, 3.2999999999999998, 4.0499999999999998]], &quot;data-outlier&quot;: [[1, 4.4000000000000004], [1, 4.0999999999999996], [1, 4.2000000000000002], [1, 2.0]]}]}\n",
       "    });\n",
       "    </script>\" style='width:100%; height: 500px; border: none'></iframe>"
      ],
      "text/plain": [
       "<IPython.core.display.HTML object>"
      ]
     },
     "execution_count": 30,
     "metadata": {},
     "output_type": "execute_result"
    }
   ],
   "source": [
    "plot_data = plots.boxplot(iris[['sepal length (cm)', 'sepal width (cm)']])\n",
    "utils.ipython_plot_zingchart(plot_data)"
   ]
  },
  {
   "cell_type": "code",
   "execution_count": 31,
   "metadata": {
    "collapsed": false
   },
   "outputs": [
    {
     "data": {
      "text/html": [
       "<iframe srcdoc=\"\n",
       "    <head>\n",
       "        <script src=&quot;http://cdn.zingchart.com/zingchart.min.js&quot;></script>\n",
       "        <script>zingchart.MODULESDIR=&quot;http://cdn.zingchart.com/modules/&quot;;</script>\n",
       "    </head>\n",
       "    <div id=&quot;zingchart-plot&quot;></div><script>\n",
       "    zingchart.render({\n",
       "        &quot;id&quot;: &quot;zingchart-plot&quot;\n",
       "        , &quot;width&quot;: 600\n",
       "        , &quot;height&quot;: 400\n",
       "        , &quot;data&quot;: {&quot;scaleY&quot;: {&quot;label&quot;: {&quot;text&quot;: &quot;CM&quot;}}, &quot;scaleX&quot;: {&quot;values&quot;: [&quot;sepal length (cm)&quot;, &quot;sepal width (cm)&quot;, &quot;petal length (cm)&quot;, &quot;petal width (cm)&quot;]}, &quot;type&quot;: &quot;boxplot&quot;, &quot;options&quot;: null, &quot;series&quot;: [{&quot;data-box&quot;: [[3.1499999999999986, 5.0999999999999996, 5.7999999999999998, 6.4000000000000004, 8.3500000000000014], [2.0499999999999998, 2.7999999999999998, 3.0, 3.2999999999999998, 4.0499999999999998], [-3.649999999999999, 1.6000000000000001, 4.3499999999999996, 5.0999999999999996, 10.349999999999998], [-1.95, 0.29999999999999999, 1.3, 1.8, 4.0499999999999998]], &quot;data-outlier&quot;: [[1, 4.4000000000000004], [1, 4.0999999999999996], [1, 4.2000000000000002], [1, 2.0]]}]}\n",
       "    });\n",
       "    </script>\" style='width:100%; height: 500px; border: none'></iframe>"
      ],
      "text/plain": [
       "<IPython.core.display.HTML object>"
      ]
     },
     "execution_count": 31,
     "metadata": {},
     "output_type": "execute_result"
    }
   ],
   "source": [
    "plot_data = plots.boxplot(data = iris, kind = \"boxplot\", \n",
    "                          options = None, plot_options={\"scaleY\":{\"label\": {\"text\": \"CM\"}}})\n",
    "utils.ipython_plot_zingchart(plot_data, )"
   ]
  },
  {
   "cell_type": "code",
   "execution_count": 32,
   "metadata": {
    "collapsed": false
   },
   "outputs": [
    {
     "data": {
      "text/html": [
       "<iframe srcdoc=\"\n",
       "    <head>\n",
       "        <script src=&quot;http://cdn.zingchart.com/zingchart.min.js&quot;></script>\n",
       "        <script>zingchart.MODULESDIR=&quot;http://cdn.zingchart.com/modules/&quot;;</script>\n",
       "    </head>\n",
       "    <div id=&quot;zingchart-plot&quot;></div><script>\n",
       "    zingchart.render({\n",
       "        &quot;id&quot;: &quot;zingchart-plot&quot;\n",
       "        , &quot;width&quot;: 600\n",
       "        , &quot;height&quot;: 400\n",
       "        , &quot;data&quot;: {&quot;plot&quot;: {&quot;selection-mode&quot;: &quot;multiple&quot;}, &quot;series&quot;: [{&quot;data-box&quot;: [[4.1999999999999993, 4.7999999999999998, 5.0, 5.2000000000000002, 5.8000000000000007], [4.5499999999999989, 5.5999999999999996, 5.9000000000000004, 6.2999999999999998, 7.3499999999999996], [5.2125000000000004, 6.2250000000000005, 6.5, 6.9000000000000004, 7.9124999999999996]], &quot;data-outlier&quot;: [[2, 4.9000000000000004]]}], &quot;type&quot;: &quot;boxplot&quot;, &quot;scaleX&quot;: {&quot;values&quot;: [&quot;setosa&quot;, &quot;versicolor&quot;, &quot;virginica&quot;]}, &quot;options&quot;: null, &quot;scaleY&quot;: {&quot;label&quot;: {&quot;text&quot;: &quot;sepal length (cm)&quot;}}}\n",
       "    });\n",
       "    </script>\" style='width:100%; height: 500px; border: none'></iframe>"
      ],
      "text/plain": [
       "<IPython.core.display.HTML object>"
      ]
     },
     "execution_count": 32,
     "metadata": {},
     "output_type": "execute_result"
    }
   ],
   "source": [
    "data = {}\n",
    "for f, df in iris.groupby(\"flower_type\"):\n",
    "    data[f] = df[\"sepal length (cm)\"]\n",
    "\n",
    "    \n",
    "plot_data = plots.boxplot(data = data, plot_options = {\"scaleY\": {\"label\": {\"text\": \"sepal length (cm)\"}}\n",
    "                                                      , \"plot\": {\"selection-mode\": \"multiple\"}})\n",
    "utils.ipython_plot_zingchart(plot_data)"
   ]
  },
  {
   "cell_type": "code",
   "execution_count": 33,
   "metadata": {
    "collapsed": false,
    "scrolled": false
   },
   "outputs": [
    {
     "data": {
      "text/html": [
       "<iframe srcdoc=\"\n",
       "    <head>\n",
       "        <script src=&quot;http://cdn.zingchart.com/zingchart.min.js&quot;></script>\n",
       "        <script>zingchart.MODULESDIR=&quot;http://cdn.zingchart.com/modules/&quot;;</script>\n",
       "    </head>\n",
       "    <div id=&quot;zingchart-plot&quot;></div><script>\n",
       "    zingchart.render({\n",
       "        &quot;id&quot;: &quot;zingchart-plot&quot;\n",
       "        , &quot;width&quot;: 600\n",
       "        , &quot;height&quot;: 400\n",
       "        , &quot;data&quot;: {&quot;scaleY&quot;: {&quot;label&quot;: {&quot;text&quot;: &quot;sepal length (cm)&quot;}}, &quot;scaleX&quot;: {&quot;values&quot;: [&quot;orange&quot;, &quot;apple&quot;]}, &quot;type&quot;: &quot;boxplot&quot;, &quot;options&quot;: null, &quot;series&quot;: [{&quot;data-box&quot;: [[-9.5, 4.75, 9.5, 14.25, 28.5], [-4.5, 2.25, 4.5, 6.75, 13.5]], &quot;data-outlier&quot;: []}]}\n",
       "    });\n",
       "    </script>\" style='width:100%; height: 500px; border: none'></iframe>"
      ],
      "text/plain": [
       "<IPython.core.display.HTML object>"
      ]
     },
     "execution_count": 33,
     "metadata": {},
     "output_type": "execute_result"
    }
   ],
   "source": [
    "plot_data = plots.boxplot(data = {\"apple\": pd.Series(range(10)), \n",
    "                                  \"orange\": pd.Series(range(20))}, plot_options = {\"scaleY\": {\"label\": {\"text\": \"sepal length (cm)\"}}})\n",
    "utils.ipython_plot_zingchart(plot_data)"
   ]
  },
  {
   "cell_type": "code",
   "execution_count": null,
   "metadata": {
    "collapsed": true
   },
   "outputs": [],
   "source": []
  },
  {
   "cell_type": "code",
   "execution_count": null,
   "metadata": {
    "collapsed": true
   },
   "outputs": [],
   "source": []
  }
 ],
 "metadata": {
  "kernelspec": {
   "display_name": "Python 2",
   "language": "python",
   "name": "python2"
  },
  "language_info": {
   "codemirror_mode": {
    "name": "ipython",
    "version": 2
   },
   "file_extension": ".py",
   "mimetype": "text/x-python",
   "name": "python",
   "nbconvert_exporter": "python",
   "pygments_lexer": "ipython2",
   "version": "2.7.6"
  }
 },
 "nbformat": 4,
 "nbformat_minor": 0
}
