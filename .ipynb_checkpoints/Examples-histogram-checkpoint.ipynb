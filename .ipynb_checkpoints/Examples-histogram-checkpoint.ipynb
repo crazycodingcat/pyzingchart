{
 "cells": [
  {
   "cell_type": "code",
   "execution_count": 1,
   "metadata": {
    "collapsed": true
   },
   "outputs": [],
   "source": [
    "%matplotlib inline\n",
    "%load_ext autoreload\n",
    "%autoreload 2"
   ]
  },
  {
   "cell_type": "code",
   "execution_count": 2,
   "metadata": {
    "collapsed": true
   },
   "outputs": [],
   "source": [
    "import matplotlib.pyplot as plt\n",
    "from zingchart import utils, plots\n",
    "import pandas as pd\n",
    "from uuid import uuid4"
   ]
  },
  {
   "cell_type": "code",
   "execution_count": 3,
   "metadata": {
    "collapsed": true
   },
   "outputs": [],
   "source": [
    "## sample data - iris from sklearn\n",
    "iris = pd.read_csv(\"data/iris.csv\")"
   ]
  },
  {
   "cell_type": "markdown",
   "metadata": {},
   "source": [
    "### plot histogram of a series"
   ]
  },
  {
   "cell_type": "code",
   "execution_count": 4,
   "metadata": {
    "collapsed": false
   },
   "outputs": [
    {
     "data": {
      "text/html": [
       "<script src=\"zingchart_js/zingchart.min.js\"></script><script>zingchart.MODULESDIR=\"zingchart_js/modules/\";</script><div id='ccba2562-1104-487f-b3cd-a4ff1bf1c0bd'></div>\n",
       "        <script>\n",
       "            zingchart.render({\n",
       "            id:'ccba2562-1104-487f-b3cd-a4ff1bf1c0bd',\n",
       "            height:400,\n",
       "            width:600,\n",
       "            data:{\"series\": [{\"values\": [9, 23, 14, 27, 16, 26, 18, 6, 5, 6]}], \"scale-x\": {\"values\": [4.3, 4.66, 5.02, 5.38, 5.74, 6.1, 6.46, 6.82, 7.18, 7.54, 7.9]}, \"type\": \"bar\", \"tooltip\": {\"border-radius\": \"8px\", \"font-size\": \"12px\", \"text\": \"<b>Value: %k</b><br><b>Count: %v</b>\", \"padding\": \"5px 5px\", \"alpha\": 0.9, \"text-align\": \"left\"}}\n",
       "          });\n",
       "        </script>\n",
       "    "
      ],
      "text/plain": [
       "<IPython.core.display.HTML object>"
      ]
     },
     "execution_count": 4,
     "metadata": {},
     "output_type": "execute_result"
    }
   ],
   "source": [
    "plot_data = plots.histogram(iris['sepal length (cm)'])\n",
    "utils.ipython_plot_zing_data(plot_data, uuid4())"
   ]
  },
  {
   "cell_type": "code",
   "execution_count": 5,
   "metadata": {
    "collapsed": false
   },
   "outputs": [
    {
     "data": {
      "text/html": [
       "<script src=\"zingchart_js/zingchart.min.js\"></script><script>zingchart.MODULESDIR=\"zingchart_js/modules/\";</script><div id='a823c5c7-fecb-432c-87e7-a7afff18de74'></div>\n",
       "        <script>\n",
       "            zingchart.render({\n",
       "            id:'a823c5c7-fecb-432c-87e7-a7afff18de74',\n",
       "            height:400,\n",
       "            width:600,\n",
       "            data:{\"series\": [{\"values\": [4, 5, 7, 16, 9, 5, 13, 14, 10, 6, 10, 16, 7, 11, 4, 2, 4, 1, 5, 1]}], \"scale-x\": {\"values\": [4.3, 4.48, 4.66, 4.84, 5.02, 5.2, 5.38, 5.56, 5.74, 5.92, 6.1, 6.28, 6.46, 6.64, 6.82, 7.0, 7.18, 7.36, 7.54, 7.72, 7.9]}, \"type\": \"bar\", \"tooltip\": {\"border-radius\": \"8px\", \"font-size\": \"12px\", \"text\": \"<b>Value: %k</b><br><b>Count: %v</b>\", \"padding\": \"5px 5px\", \"alpha\": 0.9, \"text-align\": \"left\"}}\n",
       "          });\n",
       "        </script>\n",
       "    "
      ],
      "text/plain": [
       "<IPython.core.display.HTML object>"
      ]
     },
     "execution_count": 5,
     "metadata": {},
     "output_type": "execute_result"
    }
   ],
   "source": [
    "plot_data = plots.histogram(iris['sepal length (cm)'], bins=20)\n",
    "utils.ipython_plot_zing_data(plot_data, uuid4())"
   ]
  },
  {
   "cell_type": "code",
   "execution_count": null,
   "metadata": {
    "collapsed": true
   },
   "outputs": [],
   "source": []
  }
 ],
 "metadata": {
  "kernelspec": {
   "display_name": "Python 2",
   "language": "python",
   "name": "python2"
  },
  "language_info": {
   "codemirror_mode": {
    "name": "ipython",
    "version": 2
   },
   "file_extension": ".py",
   "mimetype": "text/x-python",
   "name": "python",
   "nbconvert_exporter": "python",
   "pygments_lexer": "ipython2",
   "version": "2.7.6"
  }
 },
 "nbformat": 4,
 "nbformat_minor": 0
}
