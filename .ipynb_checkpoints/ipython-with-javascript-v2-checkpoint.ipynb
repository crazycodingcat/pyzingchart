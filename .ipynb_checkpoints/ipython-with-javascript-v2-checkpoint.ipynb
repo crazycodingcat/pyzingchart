{
 "cells": [
  {
   "cell_type": "markdown",
   "metadata": {},
   "source": [
    "### New notes taken from latest [tutorial](https://bitbucket.org/hrojas/dc.js-in-ipython-notebooks) on how ipython notebook interacts with dc.js"
   ]
  },
  {
   "cell_type": "markdown",
   "metadata": {},
   "source": [
    "##Learning Notes\n",
    "\n",
    "### 1. Use `<iframe>` to host HTML - help resolve the duplicated tag-id issue\n",
    "### 2. The hosted page is an integrated html, including `<head>` and `<body>`\n",
    "### 3. Use jinja2 to interplot the strings\n",
    "\n",
    "\n",
    "The example below uses dc.js for iris data plotting"
   ]
  },
  {
   "cell_type": "code",
   "execution_count": 16,
   "metadata": {
    "collapsed": true
   },
   "outputs": [],
   "source": [
    "import pandas as pd\n",
    "import jinja2 \n",
    "from IPython.display import display, Javascript, HTML"
   ]
  },
  {
   "cell_type": "code",
   "execution_count": 23,
   "metadata": {
    "collapsed": false
   },
   "outputs": [
    {
     "data": {
      "text/html": [
       "<div style=\"max-height:1000px;max-width:1500px;overflow:auto;\">\n",
       "<table border=\"1\" class=\"dataframe\">\n",
       "  <thead>\n",
       "    <tr style=\"text-align: right;\">\n",
       "      <th></th>\n",
       "      <th>sepal length (cm)</th>\n",
       "      <th>sepal width (cm)</th>\n",
       "      <th>petal length (cm)</th>\n",
       "      <th>petal width (cm)</th>\n",
       "      <th>flower_type</th>\n",
       "    </tr>\n",
       "  </thead>\n",
       "  <tbody>\n",
       "    <tr>\n",
       "      <th>0</th>\n",
       "      <td>5.1</td>\n",
       "      <td>3.5</td>\n",
       "      <td>1.4</td>\n",
       "      <td>0.2</td>\n",
       "      <td>setosa</td>\n",
       "    </tr>\n",
       "    <tr>\n",
       "      <th>1</th>\n",
       "      <td>4.9</td>\n",
       "      <td>3.0</td>\n",
       "      <td>1.4</td>\n",
       "      <td>0.2</td>\n",
       "      <td>setosa</td>\n",
       "    </tr>\n",
       "    <tr>\n",
       "      <th>2</th>\n",
       "      <td>4.7</td>\n",
       "      <td>3.2</td>\n",
       "      <td>1.3</td>\n",
       "      <td>0.2</td>\n",
       "      <td>setosa</td>\n",
       "    </tr>\n",
       "  </tbody>\n",
       "</table>\n",
       "</div>"
      ],
      "text/plain": [
       "   sepal length (cm)  sepal width (cm)  petal length (cm)  petal width (cm)  \\\n",
       "0                5.1               3.5                1.4               0.2   \n",
       "1                4.9               3.0                1.4               0.2   \n",
       "2                4.7               3.2                1.3               0.2   \n",
       "\n",
       "  flower_type  \n",
       "0      setosa  \n",
       "1      setosa  \n",
       "2      setosa  "
      ]
     },
     "execution_count": 23,
     "metadata": {},
     "output_type": "execute_result"
    }
   ],
   "source": [
    "df = pd.read_csv(\"data/iris.csv\")\n",
    "df.head(n = 3)"
   ]
  },
  {
   "cell_type": "code",
   "execution_count": 19,
   "metadata": {
    "collapsed": true
   },
   "outputs": [],
   "source": [
    "def iframe(stuff):\n",
    "    return HTML(\"\"\"<iframe srcdoc='{srcdoc}' style='width:100%; height: 300px; border: none'></iframe>\"\"\"\n",
    "                .format(srcdoc = stuff.replace('\"', '&quot;')))"
   ]
  },
  {
   "cell_type": "code",
   "execution_count": 24,
   "metadata": {
    "collapsed": true
   },
   "outputs": [],
   "source": [
    "head = HTML(\"\"\"\n",
    "<head>\n",
    "    <link rel=\"stylesheet\" type=\"text/css\" href=\"https://cdnjs.cloudflare.com/ajax/libs/dc/2.0.0-alpha.2/dc.css\"/> \n",
    "    <script src=\"https://cdnjs.cloudflare.com/ajax/libs/d3/3.4.8/d3.min.js\"></script> \n",
    "    <script src=\"https://cdnjs.cloudflare.com/ajax/libs/crossfilter/1.3.9/crossfilter.min.js\"></script> \n",
    "    <script src=\"https://cdnjs.cloudflare.com/ajax/libs/dc/1.7.0/dc.min.js\"></script> \n",
    "</head>\n",
    "\"\"\")\n",
    "\n",
    "body = HTML(\"\"\"\n",
    "<!-- A div anchor that can be identified by id -->\n",
    "<div id=\"rowchart\" class=\"dc-chart\">\n",
    "    <!-- Title or anything you want to add above the chart -->\n",
    "    <strong>Row Chart</strong>\n",
    "    <!--\n",
    "        This will create a reset button when ever the user selects a filter.\n",
    "        Clicking on the reset button will remove all filters.\n",
    "     -->\n",
    "    <a class=\"reset\" href=\"javascript:void(0);\" onclick=\"javascript:RowChart.filterAll();dc.redrawAll();\" style=\"display: none;\">reset</a>\n",
    "    <div class=\"clearfix\"></div>\n",
    "    <!--\n",
    "        dc.js will also automatically inject applied current filter value into\n",
    "        any html element with css class set to \"filter\"\n",
    "    -->\n",
    "    <span class=\"reset\" style=\"display: none;\">Current filter: <span class=\"filter\"></span></span>\n",
    "    <br>\n",
    "    </br>\n",
    "</div>\n",
    "\"\"\")\n",
    "\n",
    "dc_template = jinja2.Template(\"\"\"   \n",
    "\n",
    "// Create Global Variables\n",
    "var RowChart = dc.rowChart(\"#rowchart\");\n",
    "\n",
    "// Load data\n",
    "var dataset = {{ data }};\n",
    "\n",
    "// Call function\n",
    "Graph(dataset);\n",
    "\n",
    "\n",
    "// Create function\n",
    "function Graph(data) {\n",
    "\n",
    "   \n",
    "    // Feed it through crossfilter  \n",
    "    var ndx = crossfilter(data);\n",
    "    \n",
    "    // for testing\n",
    "    //console.log(data);\n",
    "\n",
    "    //define a dimension\n",
    "    //Here we will group by state\n",
    "    var dim = ndx.dimension(function(d) {return d[\"flower_type\"]});\n",
    "\n",
    "    //Here we group by state and sum on column population\n",
    "    var g = dim.group().reduceSum(function(d){return d[\"sepal width (cm)\"];});\n",
    "    \n",
    "    //Lets create a row chart\n",
    "    RowChart.dimension(dim)\n",
    "            .group(g)\n",
    "            .width(500);      \n",
    "\n",
    "    dc.renderAll(); // render all charts on the page\n",
    "    \n",
    "}; // end graph function    \n",
    "    \n",
    "\"\"\"\n",
    ")\n",
    "\n",
    "dc_plot = Javascript(dc_template.render(data = df.to_json(orient=\"records\")))"
   ]
  },
  {
   "cell_type": "code",
   "execution_count": 25,
   "metadata": {
    "collapsed": false
   },
   "outputs": [
    {
     "data": {
      "text/html": [
       "<iframe srcdoc='\n",
       "<head>\n",
       "    <link rel=&quot;stylesheet&quot; type=&quot;text/css&quot; href=&quot;https://cdnjs.cloudflare.com/ajax/libs/dc/2.0.0-alpha.2/dc.css&quot;/> \n",
       "    <script src=&quot;https://cdnjs.cloudflare.com/ajax/libs/d3/3.4.8/d3.min.js&quot;></script> \n",
       "    <script src=&quot;https://cdnjs.cloudflare.com/ajax/libs/crossfilter/1.3.9/crossfilter.min.js&quot;></script> \n",
       "    <script src=&quot;https://cdnjs.cloudflare.com/ajax/libs/dc/1.7.0/dc.min.js&quot;></script> \n",
       "</head>\n",
       "\n",
       "<!-- A div anchor that can be identified by id -->\n",
       "<div id=&quot;rowchart&quot; class=&quot;dc-chart&quot;>\n",
       "    <!-- Title or anything you want to add above the chart -->\n",
       "    <strong>Row Chart</strong>\n",
       "    <!--\n",
       "        This will create a reset button when ever the user selects a filter.\n",
       "        Clicking on the reset button will remove all filters.\n",
       "     -->\n",
       "    <a class=&quot;reset&quot; href=&quot;javascript:void(0);&quot; onclick=&quot;javascript:RowChart.filterAll();dc.redrawAll();&quot; style=&quot;display: none;&quot;>reset</a>\n",
       "    <div class=&quot;clearfix&quot;></div>\n",
       "    <!--\n",
       "        dc.js will also automatically inject applied current filter value into\n",
       "        any html element with css class set to &quot;filter&quot;\n",
       "    -->\n",
       "    <span class=&quot;reset&quot; style=&quot;display: none;&quot;>Current filter: <span class=&quot;filter&quot;></span></span>\n",
       "    <br>\n",
       "    </br>\n",
       "</div>\n",
       "<script>   \n",
       "\n",
       "// Create Global Variables\n",
       "var RowChart = dc.rowChart(&quot;#rowchart&quot;);\n",
       "\n",
       "// Load data\n",
       "var dataset = [{&quot;sepal length (cm)&quot;:5.1,&quot;sepal width (cm)&quot;:3.5,&quot;petal length (cm)&quot;:1.4,&quot;petal width (cm)&quot;:0.2,&quot;flower_type&quot;:&quot;setosa&quot;},{&quot;sepal length (cm)&quot;:4.9,&quot;sepal width (cm)&quot;:3.0,&quot;petal length (cm)&quot;:1.4,&quot;petal width (cm)&quot;:0.2,&quot;flower_type&quot;:&quot;setosa&quot;},{&quot;sepal length (cm)&quot;:4.7,&quot;sepal width (cm)&quot;:3.2,&quot;petal length (cm)&quot;:1.3,&quot;petal width (cm)&quot;:0.2,&quot;flower_type&quot;:&quot;setosa&quot;},{&quot;sepal length (cm)&quot;:4.6,&quot;sepal width (cm)&quot;:3.1,&quot;petal length (cm)&quot;:1.5,&quot;petal width (cm)&quot;:0.2,&quot;flower_type&quot;:&quot;setosa&quot;},{&quot;sepal length (cm)&quot;:5.0,&quot;sepal width (cm)&quot;:3.6,&quot;petal length (cm)&quot;:1.4,&quot;petal width (cm)&quot;:0.2,&quot;flower_type&quot;:&quot;setosa&quot;},{&quot;sepal length (cm)&quot;:5.4,&quot;sepal width (cm)&quot;:3.9,&quot;petal length (cm)&quot;:1.7,&quot;petal width (cm)&quot;:0.4,&quot;flower_type&quot;:&quot;setosa&quot;},{&quot;sepal length (cm)&quot;:4.6,&quot;sepal width (cm)&quot;:3.4,&quot;petal length (cm)&quot;:1.4,&quot;petal width (cm)&quot;:0.3,&quot;flower_type&quot;:&quot;setosa&quot;},{&quot;sepal length (cm)&quot;:5.0,&quot;sepal width (cm)&quot;:3.4,&quot;petal length (cm)&quot;:1.5,&quot;petal width (cm)&quot;:0.2,&quot;flower_type&quot;:&quot;setosa&quot;},{&quot;sepal length (cm)&quot;:4.4,&quot;sepal width (cm)&quot;:2.9,&quot;petal length (cm)&quot;:1.4,&quot;petal width (cm)&quot;:0.2,&quot;flower_type&quot;:&quot;setosa&quot;},{&quot;sepal length (cm)&quot;:4.9,&quot;sepal width (cm)&quot;:3.1,&quot;petal length (cm)&quot;:1.5,&quot;petal width (cm)&quot;:0.1,&quot;flower_type&quot;:&quot;setosa&quot;},{&quot;sepal length (cm)&quot;:5.4,&quot;sepal width (cm)&quot;:3.7,&quot;petal length (cm)&quot;:1.5,&quot;petal width (cm)&quot;:0.2,&quot;flower_type&quot;:&quot;setosa&quot;},{&quot;sepal length (cm)&quot;:4.8,&quot;sepal width (cm)&quot;:3.4,&quot;petal length (cm)&quot;:1.6,&quot;petal width (cm)&quot;:0.2,&quot;flower_type&quot;:&quot;setosa&quot;},{&quot;sepal length (cm)&quot;:4.8,&quot;sepal width (cm)&quot;:3.0,&quot;petal length (cm)&quot;:1.4,&quot;petal width (cm)&quot;:0.1,&quot;flower_type&quot;:&quot;setosa&quot;},{&quot;sepal length (cm)&quot;:4.3,&quot;sepal width (cm)&quot;:3.0,&quot;petal length (cm)&quot;:1.1,&quot;petal width (cm)&quot;:0.1,&quot;flower_type&quot;:&quot;setosa&quot;},{&quot;sepal length (cm)&quot;:5.8,&quot;sepal width (cm)&quot;:4.0,&quot;petal length (cm)&quot;:1.2,&quot;petal width (cm)&quot;:0.2,&quot;flower_type&quot;:&quot;setosa&quot;},{&quot;sepal length (cm)&quot;:5.7,&quot;sepal width (cm)&quot;:4.4,&quot;petal length (cm)&quot;:1.5,&quot;petal width (cm)&quot;:0.4,&quot;flower_type&quot;:&quot;setosa&quot;},{&quot;sepal length (cm)&quot;:5.4,&quot;sepal width (cm)&quot;:3.9,&quot;petal length (cm)&quot;:1.3,&quot;petal width (cm)&quot;:0.4,&quot;flower_type&quot;:&quot;setosa&quot;},{&quot;sepal length (cm)&quot;:5.1,&quot;sepal width (cm)&quot;:3.5,&quot;petal length (cm)&quot;:1.4,&quot;petal width (cm)&quot;:0.3,&quot;flower_type&quot;:&quot;setosa&quot;},{&quot;sepal length (cm)&quot;:5.7,&quot;sepal width (cm)&quot;:3.8,&quot;petal length (cm)&quot;:1.7,&quot;petal width (cm)&quot;:0.3,&quot;flower_type&quot;:&quot;setosa&quot;},{&quot;sepal length (cm)&quot;:5.1,&quot;sepal width (cm)&quot;:3.8,&quot;petal length (cm)&quot;:1.5,&quot;petal width (cm)&quot;:0.3,&quot;flower_type&quot;:&quot;setosa&quot;},{&quot;sepal length (cm)&quot;:5.4,&quot;sepal width (cm)&quot;:3.4,&quot;petal length (cm)&quot;:1.7,&quot;petal width (cm)&quot;:0.2,&quot;flower_type&quot;:&quot;setosa&quot;},{&quot;sepal length (cm)&quot;:5.1,&quot;sepal width (cm)&quot;:3.7,&quot;petal length (cm)&quot;:1.5,&quot;petal width (cm)&quot;:0.4,&quot;flower_type&quot;:&quot;setosa&quot;},{&quot;sepal length (cm)&quot;:4.6,&quot;sepal width (cm)&quot;:3.6,&quot;petal length (cm)&quot;:1.0,&quot;petal width (cm)&quot;:0.2,&quot;flower_type&quot;:&quot;setosa&quot;},{&quot;sepal length (cm)&quot;:5.1,&quot;sepal width (cm)&quot;:3.3,&quot;petal length (cm)&quot;:1.7,&quot;petal width (cm)&quot;:0.5,&quot;flower_type&quot;:&quot;setosa&quot;},{&quot;sepal length (cm)&quot;:4.8,&quot;sepal width (cm)&quot;:3.4,&quot;petal length (cm)&quot;:1.9,&quot;petal width (cm)&quot;:0.2,&quot;flower_type&quot;:&quot;setosa&quot;},{&quot;sepal length (cm)&quot;:5.0,&quot;sepal width (cm)&quot;:3.0,&quot;petal length (cm)&quot;:1.6,&quot;petal width (cm)&quot;:0.2,&quot;flower_type&quot;:&quot;setosa&quot;},{&quot;sepal length (cm)&quot;:5.0,&quot;sepal width (cm)&quot;:3.4,&quot;petal length (cm)&quot;:1.6,&quot;petal width (cm)&quot;:0.4,&quot;flower_type&quot;:&quot;setosa&quot;},{&quot;sepal length (cm)&quot;:5.2,&quot;sepal width (cm)&quot;:3.5,&quot;petal length (cm)&quot;:1.5,&quot;petal width (cm)&quot;:0.2,&quot;flower_type&quot;:&quot;setosa&quot;},{&quot;sepal length (cm)&quot;:5.2,&quot;sepal width (cm)&quot;:3.4,&quot;petal length (cm)&quot;:1.4,&quot;petal width (cm)&quot;:0.2,&quot;flower_type&quot;:&quot;setosa&quot;},{&quot;sepal length (cm)&quot;:4.7,&quot;sepal width (cm)&quot;:3.2,&quot;petal length (cm)&quot;:1.6,&quot;petal width (cm)&quot;:0.2,&quot;flower_type&quot;:&quot;setosa&quot;},{&quot;sepal length (cm)&quot;:4.8,&quot;sepal width (cm)&quot;:3.1,&quot;petal length (cm)&quot;:1.6,&quot;petal width (cm)&quot;:0.2,&quot;flower_type&quot;:&quot;setosa&quot;},{&quot;sepal length (cm)&quot;:5.4,&quot;sepal width (cm)&quot;:3.4,&quot;petal length (cm)&quot;:1.5,&quot;petal width (cm)&quot;:0.4,&quot;flower_type&quot;:&quot;setosa&quot;},{&quot;sepal length (cm)&quot;:5.2,&quot;sepal width (cm)&quot;:4.1,&quot;petal length (cm)&quot;:1.5,&quot;petal width (cm)&quot;:0.1,&quot;flower_type&quot;:&quot;setosa&quot;},{&quot;sepal length (cm)&quot;:5.5,&quot;sepal width (cm)&quot;:4.2,&quot;petal length (cm)&quot;:1.4,&quot;petal width (cm)&quot;:0.2,&quot;flower_type&quot;:&quot;setosa&quot;},{&quot;sepal length (cm)&quot;:4.9,&quot;sepal width (cm)&quot;:3.1,&quot;petal length (cm)&quot;:1.5,&quot;petal width (cm)&quot;:0.1,&quot;flower_type&quot;:&quot;setosa&quot;},{&quot;sepal length (cm)&quot;:5.0,&quot;sepal width (cm)&quot;:3.2,&quot;petal length (cm)&quot;:1.2,&quot;petal width (cm)&quot;:0.2,&quot;flower_type&quot;:&quot;setosa&quot;},{&quot;sepal length (cm)&quot;:5.5,&quot;sepal width (cm)&quot;:3.5,&quot;petal length (cm)&quot;:1.3,&quot;petal width (cm)&quot;:0.2,&quot;flower_type&quot;:&quot;setosa&quot;},{&quot;sepal length (cm)&quot;:4.9,&quot;sepal width (cm)&quot;:3.1,&quot;petal length (cm)&quot;:1.5,&quot;petal width (cm)&quot;:0.1,&quot;flower_type&quot;:&quot;setosa&quot;},{&quot;sepal length (cm)&quot;:4.4,&quot;sepal width (cm)&quot;:3.0,&quot;petal length (cm)&quot;:1.3,&quot;petal width (cm)&quot;:0.2,&quot;flower_type&quot;:&quot;setosa&quot;},{&quot;sepal length (cm)&quot;:5.1,&quot;sepal width (cm)&quot;:3.4,&quot;petal length (cm)&quot;:1.5,&quot;petal width (cm)&quot;:0.2,&quot;flower_type&quot;:&quot;setosa&quot;},{&quot;sepal length (cm)&quot;:5.0,&quot;sepal width (cm)&quot;:3.5,&quot;petal length (cm)&quot;:1.3,&quot;petal width (cm)&quot;:0.3,&quot;flower_type&quot;:&quot;setosa&quot;},{&quot;sepal length (cm)&quot;:4.5,&quot;sepal width (cm)&quot;:2.3,&quot;petal length (cm)&quot;:1.3,&quot;petal width (cm)&quot;:0.3,&quot;flower_type&quot;:&quot;setosa&quot;},{&quot;sepal length (cm)&quot;:4.4,&quot;sepal width (cm)&quot;:3.2,&quot;petal length (cm)&quot;:1.3,&quot;petal width (cm)&quot;:0.2,&quot;flower_type&quot;:&quot;setosa&quot;},{&quot;sepal length (cm)&quot;:5.0,&quot;sepal width (cm)&quot;:3.5,&quot;petal length (cm)&quot;:1.6,&quot;petal width (cm)&quot;:0.6,&quot;flower_type&quot;:&quot;setosa&quot;},{&quot;sepal length (cm)&quot;:5.1,&quot;sepal width (cm)&quot;:3.8,&quot;petal length (cm)&quot;:1.9,&quot;petal width (cm)&quot;:0.4,&quot;flower_type&quot;:&quot;setosa&quot;},{&quot;sepal length (cm)&quot;:4.8,&quot;sepal width (cm)&quot;:3.0,&quot;petal length (cm)&quot;:1.4,&quot;petal width (cm)&quot;:0.3,&quot;flower_type&quot;:&quot;setosa&quot;},{&quot;sepal length (cm)&quot;:5.1,&quot;sepal width (cm)&quot;:3.8,&quot;petal length (cm)&quot;:1.6,&quot;petal width (cm)&quot;:0.2,&quot;flower_type&quot;:&quot;setosa&quot;},{&quot;sepal length (cm)&quot;:4.6,&quot;sepal width (cm)&quot;:3.2,&quot;petal length (cm)&quot;:1.4,&quot;petal width (cm)&quot;:0.2,&quot;flower_type&quot;:&quot;setosa&quot;},{&quot;sepal length (cm)&quot;:5.3,&quot;sepal width (cm)&quot;:3.7,&quot;petal length (cm)&quot;:1.5,&quot;petal width (cm)&quot;:0.2,&quot;flower_type&quot;:&quot;setosa&quot;},{&quot;sepal length (cm)&quot;:5.0,&quot;sepal width (cm)&quot;:3.3,&quot;petal length (cm)&quot;:1.4,&quot;petal width (cm)&quot;:0.2,&quot;flower_type&quot;:&quot;setosa&quot;},{&quot;sepal length (cm)&quot;:7.0,&quot;sepal width (cm)&quot;:3.2,&quot;petal length (cm)&quot;:4.7,&quot;petal width (cm)&quot;:1.4,&quot;flower_type&quot;:&quot;versicolor&quot;},{&quot;sepal length (cm)&quot;:6.4,&quot;sepal width (cm)&quot;:3.2,&quot;petal length (cm)&quot;:4.5,&quot;petal width (cm)&quot;:1.5,&quot;flower_type&quot;:&quot;versicolor&quot;},{&quot;sepal length (cm)&quot;:6.9,&quot;sepal width (cm)&quot;:3.1,&quot;petal length (cm)&quot;:4.9,&quot;petal width (cm)&quot;:1.5,&quot;flower_type&quot;:&quot;versicolor&quot;},{&quot;sepal length (cm)&quot;:5.5,&quot;sepal width (cm)&quot;:2.3,&quot;petal length (cm)&quot;:4.0,&quot;petal width (cm)&quot;:1.3,&quot;flower_type&quot;:&quot;versicolor&quot;},{&quot;sepal length (cm)&quot;:6.5,&quot;sepal width (cm)&quot;:2.8,&quot;petal length (cm)&quot;:4.6,&quot;petal width (cm)&quot;:1.5,&quot;flower_type&quot;:&quot;versicolor&quot;},{&quot;sepal length (cm)&quot;:5.7,&quot;sepal width (cm)&quot;:2.8,&quot;petal length (cm)&quot;:4.5,&quot;petal width (cm)&quot;:1.3,&quot;flower_type&quot;:&quot;versicolor&quot;},{&quot;sepal length (cm)&quot;:6.3,&quot;sepal width (cm)&quot;:3.3,&quot;petal length (cm)&quot;:4.7,&quot;petal width (cm)&quot;:1.6,&quot;flower_type&quot;:&quot;versicolor&quot;},{&quot;sepal length (cm)&quot;:4.9,&quot;sepal width (cm)&quot;:2.4,&quot;petal length (cm)&quot;:3.3,&quot;petal width (cm)&quot;:1.0,&quot;flower_type&quot;:&quot;versicolor&quot;},{&quot;sepal length (cm)&quot;:6.6,&quot;sepal width (cm)&quot;:2.9,&quot;petal length (cm)&quot;:4.6,&quot;petal width (cm)&quot;:1.3,&quot;flower_type&quot;:&quot;versicolor&quot;},{&quot;sepal length (cm)&quot;:5.2,&quot;sepal width (cm)&quot;:2.7,&quot;petal length (cm)&quot;:3.9,&quot;petal width (cm)&quot;:1.4,&quot;flower_type&quot;:&quot;versicolor&quot;},{&quot;sepal length (cm)&quot;:5.0,&quot;sepal width (cm)&quot;:2.0,&quot;petal length (cm)&quot;:3.5,&quot;petal width (cm)&quot;:1.0,&quot;flower_type&quot;:&quot;versicolor&quot;},{&quot;sepal length (cm)&quot;:5.9,&quot;sepal width (cm)&quot;:3.0,&quot;petal length (cm)&quot;:4.2,&quot;petal width (cm)&quot;:1.5,&quot;flower_type&quot;:&quot;versicolor&quot;},{&quot;sepal length (cm)&quot;:6.0,&quot;sepal width (cm)&quot;:2.2,&quot;petal length (cm)&quot;:4.0,&quot;petal width (cm)&quot;:1.0,&quot;flower_type&quot;:&quot;versicolor&quot;},{&quot;sepal length (cm)&quot;:6.1,&quot;sepal width (cm)&quot;:2.9,&quot;petal length (cm)&quot;:4.7,&quot;petal width (cm)&quot;:1.4,&quot;flower_type&quot;:&quot;versicolor&quot;},{&quot;sepal length (cm)&quot;:5.6,&quot;sepal width (cm)&quot;:2.9,&quot;petal length (cm)&quot;:3.6,&quot;petal width (cm)&quot;:1.3,&quot;flower_type&quot;:&quot;versicolor&quot;},{&quot;sepal length (cm)&quot;:6.7,&quot;sepal width (cm)&quot;:3.1,&quot;petal length (cm)&quot;:4.4,&quot;petal width (cm)&quot;:1.4,&quot;flower_type&quot;:&quot;versicolor&quot;},{&quot;sepal length (cm)&quot;:5.6,&quot;sepal width (cm)&quot;:3.0,&quot;petal length (cm)&quot;:4.5,&quot;petal width (cm)&quot;:1.5,&quot;flower_type&quot;:&quot;versicolor&quot;},{&quot;sepal length (cm)&quot;:5.8,&quot;sepal width (cm)&quot;:2.7,&quot;petal length (cm)&quot;:4.1,&quot;petal width (cm)&quot;:1.0,&quot;flower_type&quot;:&quot;versicolor&quot;},{&quot;sepal length (cm)&quot;:6.2,&quot;sepal width (cm)&quot;:2.2,&quot;petal length (cm)&quot;:4.5,&quot;petal width (cm)&quot;:1.5,&quot;flower_type&quot;:&quot;versicolor&quot;},{&quot;sepal length (cm)&quot;:5.6,&quot;sepal width (cm)&quot;:2.5,&quot;petal length (cm)&quot;:3.9,&quot;petal width (cm)&quot;:1.1,&quot;flower_type&quot;:&quot;versicolor&quot;},{&quot;sepal length (cm)&quot;:5.9,&quot;sepal width (cm)&quot;:3.2,&quot;petal length (cm)&quot;:4.8,&quot;petal width (cm)&quot;:1.8,&quot;flower_type&quot;:&quot;versicolor&quot;},{&quot;sepal length (cm)&quot;:6.1,&quot;sepal width (cm)&quot;:2.8,&quot;petal length (cm)&quot;:4.0,&quot;petal width (cm)&quot;:1.3,&quot;flower_type&quot;:&quot;versicolor&quot;},{&quot;sepal length (cm)&quot;:6.3,&quot;sepal width (cm)&quot;:2.5,&quot;petal length (cm)&quot;:4.9,&quot;petal width (cm)&quot;:1.5,&quot;flower_type&quot;:&quot;versicolor&quot;},{&quot;sepal length (cm)&quot;:6.1,&quot;sepal width (cm)&quot;:2.8,&quot;petal length (cm)&quot;:4.7,&quot;petal width (cm)&quot;:1.2,&quot;flower_type&quot;:&quot;versicolor&quot;},{&quot;sepal length (cm)&quot;:6.4,&quot;sepal width (cm)&quot;:2.9,&quot;petal length (cm)&quot;:4.3,&quot;petal width (cm)&quot;:1.3,&quot;flower_type&quot;:&quot;versicolor&quot;},{&quot;sepal length (cm)&quot;:6.6,&quot;sepal width (cm)&quot;:3.0,&quot;petal length (cm)&quot;:4.4,&quot;petal width (cm)&quot;:1.4,&quot;flower_type&quot;:&quot;versicolor&quot;},{&quot;sepal length (cm)&quot;:6.8,&quot;sepal width (cm)&quot;:2.8,&quot;petal length (cm)&quot;:4.8,&quot;petal width (cm)&quot;:1.4,&quot;flower_type&quot;:&quot;versicolor&quot;},{&quot;sepal length (cm)&quot;:6.7,&quot;sepal width (cm)&quot;:3.0,&quot;petal length (cm)&quot;:5.0,&quot;petal width (cm)&quot;:1.7,&quot;flower_type&quot;:&quot;versicolor&quot;},{&quot;sepal length (cm)&quot;:6.0,&quot;sepal width (cm)&quot;:2.9,&quot;petal length (cm)&quot;:4.5,&quot;petal width (cm)&quot;:1.5,&quot;flower_type&quot;:&quot;versicolor&quot;},{&quot;sepal length (cm)&quot;:5.7,&quot;sepal width (cm)&quot;:2.6,&quot;petal length (cm)&quot;:3.5,&quot;petal width (cm)&quot;:1.0,&quot;flower_type&quot;:&quot;versicolor&quot;},{&quot;sepal length (cm)&quot;:5.5,&quot;sepal width (cm)&quot;:2.4,&quot;petal length (cm)&quot;:3.8,&quot;petal width (cm)&quot;:1.1,&quot;flower_type&quot;:&quot;versicolor&quot;},{&quot;sepal length (cm)&quot;:5.5,&quot;sepal width (cm)&quot;:2.4,&quot;petal length (cm)&quot;:3.7,&quot;petal width (cm)&quot;:1.0,&quot;flower_type&quot;:&quot;versicolor&quot;},{&quot;sepal length (cm)&quot;:5.8,&quot;sepal width (cm)&quot;:2.7,&quot;petal length (cm)&quot;:3.9,&quot;petal width (cm)&quot;:1.2,&quot;flower_type&quot;:&quot;versicolor&quot;},{&quot;sepal length (cm)&quot;:6.0,&quot;sepal width (cm)&quot;:2.7,&quot;petal length (cm)&quot;:5.1,&quot;petal width (cm)&quot;:1.6,&quot;flower_type&quot;:&quot;versicolor&quot;},{&quot;sepal length (cm)&quot;:5.4,&quot;sepal width (cm)&quot;:3.0,&quot;petal length (cm)&quot;:4.5,&quot;petal width (cm)&quot;:1.5,&quot;flower_type&quot;:&quot;versicolor&quot;},{&quot;sepal length (cm)&quot;:6.0,&quot;sepal width (cm)&quot;:3.4,&quot;petal length (cm)&quot;:4.5,&quot;petal width (cm)&quot;:1.6,&quot;flower_type&quot;:&quot;versicolor&quot;},{&quot;sepal length (cm)&quot;:6.7,&quot;sepal width (cm)&quot;:3.1,&quot;petal length (cm)&quot;:4.7,&quot;petal width (cm)&quot;:1.5,&quot;flower_type&quot;:&quot;versicolor&quot;},{&quot;sepal length (cm)&quot;:6.3,&quot;sepal width (cm)&quot;:2.3,&quot;petal length (cm)&quot;:4.4,&quot;petal width (cm)&quot;:1.3,&quot;flower_type&quot;:&quot;versicolor&quot;},{&quot;sepal length (cm)&quot;:5.6,&quot;sepal width (cm)&quot;:3.0,&quot;petal length (cm)&quot;:4.1,&quot;petal width (cm)&quot;:1.3,&quot;flower_type&quot;:&quot;versicolor&quot;},{&quot;sepal length (cm)&quot;:5.5,&quot;sepal width (cm)&quot;:2.5,&quot;petal length (cm)&quot;:4.0,&quot;petal width (cm)&quot;:1.3,&quot;flower_type&quot;:&quot;versicolor&quot;},{&quot;sepal length (cm)&quot;:5.5,&quot;sepal width (cm)&quot;:2.6,&quot;petal length (cm)&quot;:4.4,&quot;petal width (cm)&quot;:1.2,&quot;flower_type&quot;:&quot;versicolor&quot;},{&quot;sepal length (cm)&quot;:6.1,&quot;sepal width (cm)&quot;:3.0,&quot;petal length (cm)&quot;:4.6,&quot;petal width (cm)&quot;:1.4,&quot;flower_type&quot;:&quot;versicolor&quot;},{&quot;sepal length (cm)&quot;:5.8,&quot;sepal width (cm)&quot;:2.6,&quot;petal length (cm)&quot;:4.0,&quot;petal width (cm)&quot;:1.2,&quot;flower_type&quot;:&quot;versicolor&quot;},{&quot;sepal length (cm)&quot;:5.0,&quot;sepal width (cm)&quot;:2.3,&quot;petal length (cm)&quot;:3.3,&quot;petal width (cm)&quot;:1.0,&quot;flower_type&quot;:&quot;versicolor&quot;},{&quot;sepal length (cm)&quot;:5.6,&quot;sepal width (cm)&quot;:2.7,&quot;petal length (cm)&quot;:4.2,&quot;petal width (cm)&quot;:1.3,&quot;flower_type&quot;:&quot;versicolor&quot;},{&quot;sepal length (cm)&quot;:5.7,&quot;sepal width (cm)&quot;:3.0,&quot;petal length (cm)&quot;:4.2,&quot;petal width (cm)&quot;:1.2,&quot;flower_type&quot;:&quot;versicolor&quot;},{&quot;sepal length (cm)&quot;:5.7,&quot;sepal width (cm)&quot;:2.9,&quot;petal length (cm)&quot;:4.2,&quot;petal width (cm)&quot;:1.3,&quot;flower_type&quot;:&quot;versicolor&quot;},{&quot;sepal length (cm)&quot;:6.2,&quot;sepal width (cm)&quot;:2.9,&quot;petal length (cm)&quot;:4.3,&quot;petal width (cm)&quot;:1.3,&quot;flower_type&quot;:&quot;versicolor&quot;},{&quot;sepal length (cm)&quot;:5.1,&quot;sepal width (cm)&quot;:2.5,&quot;petal length (cm)&quot;:3.0,&quot;petal width (cm)&quot;:1.1,&quot;flower_type&quot;:&quot;versicolor&quot;},{&quot;sepal length (cm)&quot;:5.7,&quot;sepal width (cm)&quot;:2.8,&quot;petal length (cm)&quot;:4.1,&quot;petal width (cm)&quot;:1.3,&quot;flower_type&quot;:&quot;versicolor&quot;},{&quot;sepal length (cm)&quot;:6.3,&quot;sepal width (cm)&quot;:3.3,&quot;petal length (cm)&quot;:6.0,&quot;petal width (cm)&quot;:2.5,&quot;flower_type&quot;:&quot;virginica&quot;},{&quot;sepal length (cm)&quot;:5.8,&quot;sepal width (cm)&quot;:2.7,&quot;petal length (cm)&quot;:5.1,&quot;petal width (cm)&quot;:1.9,&quot;flower_type&quot;:&quot;virginica&quot;},{&quot;sepal length (cm)&quot;:7.1,&quot;sepal width (cm)&quot;:3.0,&quot;petal length (cm)&quot;:5.9,&quot;petal width (cm)&quot;:2.1,&quot;flower_type&quot;:&quot;virginica&quot;},{&quot;sepal length (cm)&quot;:6.3,&quot;sepal width (cm)&quot;:2.9,&quot;petal length (cm)&quot;:5.6,&quot;petal width (cm)&quot;:1.8,&quot;flower_type&quot;:&quot;virginica&quot;},{&quot;sepal length (cm)&quot;:6.5,&quot;sepal width (cm)&quot;:3.0,&quot;petal length (cm)&quot;:5.8,&quot;petal width (cm)&quot;:2.2,&quot;flower_type&quot;:&quot;virginica&quot;},{&quot;sepal length (cm)&quot;:7.6,&quot;sepal width (cm)&quot;:3.0,&quot;petal length (cm)&quot;:6.6,&quot;petal width (cm)&quot;:2.1,&quot;flower_type&quot;:&quot;virginica&quot;},{&quot;sepal length (cm)&quot;:4.9,&quot;sepal width (cm)&quot;:2.5,&quot;petal length (cm)&quot;:4.5,&quot;petal width (cm)&quot;:1.7,&quot;flower_type&quot;:&quot;virginica&quot;},{&quot;sepal length (cm)&quot;:7.3,&quot;sepal width (cm)&quot;:2.9,&quot;petal length (cm)&quot;:6.3,&quot;petal width (cm)&quot;:1.8,&quot;flower_type&quot;:&quot;virginica&quot;},{&quot;sepal length (cm)&quot;:6.7,&quot;sepal width (cm)&quot;:2.5,&quot;petal length (cm)&quot;:5.8,&quot;petal width (cm)&quot;:1.8,&quot;flower_type&quot;:&quot;virginica&quot;},{&quot;sepal length (cm)&quot;:7.2,&quot;sepal width (cm)&quot;:3.6,&quot;petal length (cm)&quot;:6.1,&quot;petal width (cm)&quot;:2.5,&quot;flower_type&quot;:&quot;virginica&quot;},{&quot;sepal length (cm)&quot;:6.5,&quot;sepal width (cm)&quot;:3.2,&quot;petal length (cm)&quot;:5.1,&quot;petal width (cm)&quot;:2.0,&quot;flower_type&quot;:&quot;virginica&quot;},{&quot;sepal length (cm)&quot;:6.4,&quot;sepal width (cm)&quot;:2.7,&quot;petal length (cm)&quot;:5.3,&quot;petal width (cm)&quot;:1.9,&quot;flower_type&quot;:&quot;virginica&quot;},{&quot;sepal length (cm)&quot;:6.8,&quot;sepal width (cm)&quot;:3.0,&quot;petal length (cm)&quot;:5.5,&quot;petal width (cm)&quot;:2.1,&quot;flower_type&quot;:&quot;virginica&quot;},{&quot;sepal length (cm)&quot;:5.7,&quot;sepal width (cm)&quot;:2.5,&quot;petal length (cm)&quot;:5.0,&quot;petal width (cm)&quot;:2.0,&quot;flower_type&quot;:&quot;virginica&quot;},{&quot;sepal length (cm)&quot;:5.8,&quot;sepal width (cm)&quot;:2.8,&quot;petal length (cm)&quot;:5.1,&quot;petal width (cm)&quot;:2.4,&quot;flower_type&quot;:&quot;virginica&quot;},{&quot;sepal length (cm)&quot;:6.4,&quot;sepal width (cm)&quot;:3.2,&quot;petal length (cm)&quot;:5.3,&quot;petal width (cm)&quot;:2.3,&quot;flower_type&quot;:&quot;virginica&quot;},{&quot;sepal length (cm)&quot;:6.5,&quot;sepal width (cm)&quot;:3.0,&quot;petal length (cm)&quot;:5.5,&quot;petal width (cm)&quot;:1.8,&quot;flower_type&quot;:&quot;virginica&quot;},{&quot;sepal length (cm)&quot;:7.7,&quot;sepal width (cm)&quot;:3.8,&quot;petal length (cm)&quot;:6.7,&quot;petal width (cm)&quot;:2.2,&quot;flower_type&quot;:&quot;virginica&quot;},{&quot;sepal length (cm)&quot;:7.7,&quot;sepal width (cm)&quot;:2.6,&quot;petal length (cm)&quot;:6.9,&quot;petal width (cm)&quot;:2.3,&quot;flower_type&quot;:&quot;virginica&quot;},{&quot;sepal length (cm)&quot;:6.0,&quot;sepal width (cm)&quot;:2.2,&quot;petal length (cm)&quot;:5.0,&quot;petal width (cm)&quot;:1.5,&quot;flower_type&quot;:&quot;virginica&quot;},{&quot;sepal length (cm)&quot;:6.9,&quot;sepal width (cm)&quot;:3.2,&quot;petal length (cm)&quot;:5.7,&quot;petal width (cm)&quot;:2.3,&quot;flower_type&quot;:&quot;virginica&quot;},{&quot;sepal length (cm)&quot;:5.6,&quot;sepal width (cm)&quot;:2.8,&quot;petal length (cm)&quot;:4.9,&quot;petal width (cm)&quot;:2.0,&quot;flower_type&quot;:&quot;virginica&quot;},{&quot;sepal length (cm)&quot;:7.7,&quot;sepal width (cm)&quot;:2.8,&quot;petal length (cm)&quot;:6.7,&quot;petal width (cm)&quot;:2.0,&quot;flower_type&quot;:&quot;virginica&quot;},{&quot;sepal length (cm)&quot;:6.3,&quot;sepal width (cm)&quot;:2.7,&quot;petal length (cm)&quot;:4.9,&quot;petal width (cm)&quot;:1.8,&quot;flower_type&quot;:&quot;virginica&quot;},{&quot;sepal length (cm)&quot;:6.7,&quot;sepal width (cm)&quot;:3.3,&quot;petal length (cm)&quot;:5.7,&quot;petal width (cm)&quot;:2.1,&quot;flower_type&quot;:&quot;virginica&quot;},{&quot;sepal length (cm)&quot;:7.2,&quot;sepal width (cm)&quot;:3.2,&quot;petal length (cm)&quot;:6.0,&quot;petal width (cm)&quot;:1.8,&quot;flower_type&quot;:&quot;virginica&quot;},{&quot;sepal length (cm)&quot;:6.2,&quot;sepal width (cm)&quot;:2.8,&quot;petal length (cm)&quot;:4.8,&quot;petal width (cm)&quot;:1.8,&quot;flower_type&quot;:&quot;virginica&quot;},{&quot;sepal length (cm)&quot;:6.1,&quot;sepal width (cm)&quot;:3.0,&quot;petal length (cm)&quot;:4.9,&quot;petal width (cm)&quot;:1.8,&quot;flower_type&quot;:&quot;virginica&quot;},{&quot;sepal length (cm)&quot;:6.4,&quot;sepal width (cm)&quot;:2.8,&quot;petal length (cm)&quot;:5.6,&quot;petal width (cm)&quot;:2.1,&quot;flower_type&quot;:&quot;virginica&quot;},{&quot;sepal length (cm)&quot;:7.2,&quot;sepal width (cm)&quot;:3.0,&quot;petal length (cm)&quot;:5.8,&quot;petal width (cm)&quot;:1.6,&quot;flower_type&quot;:&quot;virginica&quot;},{&quot;sepal length (cm)&quot;:7.4,&quot;sepal width (cm)&quot;:2.8,&quot;petal length (cm)&quot;:6.1,&quot;petal width (cm)&quot;:1.9,&quot;flower_type&quot;:&quot;virginica&quot;},{&quot;sepal length (cm)&quot;:7.9,&quot;sepal width (cm)&quot;:3.8,&quot;petal length (cm)&quot;:6.4,&quot;petal width (cm)&quot;:2.0,&quot;flower_type&quot;:&quot;virginica&quot;},{&quot;sepal length (cm)&quot;:6.4,&quot;sepal width (cm)&quot;:2.8,&quot;petal length (cm)&quot;:5.6,&quot;petal width (cm)&quot;:2.2,&quot;flower_type&quot;:&quot;virginica&quot;},{&quot;sepal length (cm)&quot;:6.3,&quot;sepal width (cm)&quot;:2.8,&quot;petal length (cm)&quot;:5.1,&quot;petal width (cm)&quot;:1.5,&quot;flower_type&quot;:&quot;virginica&quot;},{&quot;sepal length (cm)&quot;:6.1,&quot;sepal width (cm)&quot;:2.6,&quot;petal length (cm)&quot;:5.6,&quot;petal width (cm)&quot;:1.4,&quot;flower_type&quot;:&quot;virginica&quot;},{&quot;sepal length (cm)&quot;:7.7,&quot;sepal width (cm)&quot;:3.0,&quot;petal length (cm)&quot;:6.1,&quot;petal width (cm)&quot;:2.3,&quot;flower_type&quot;:&quot;virginica&quot;},{&quot;sepal length (cm)&quot;:6.3,&quot;sepal width (cm)&quot;:3.4,&quot;petal length (cm)&quot;:5.6,&quot;petal width (cm)&quot;:2.4,&quot;flower_type&quot;:&quot;virginica&quot;},{&quot;sepal length (cm)&quot;:6.4,&quot;sepal width (cm)&quot;:3.1,&quot;petal length (cm)&quot;:5.5,&quot;petal width (cm)&quot;:1.8,&quot;flower_type&quot;:&quot;virginica&quot;},{&quot;sepal length (cm)&quot;:6.0,&quot;sepal width (cm)&quot;:3.0,&quot;petal length (cm)&quot;:4.8,&quot;petal width (cm)&quot;:1.8,&quot;flower_type&quot;:&quot;virginica&quot;},{&quot;sepal length (cm)&quot;:6.9,&quot;sepal width (cm)&quot;:3.1,&quot;petal length (cm)&quot;:5.4,&quot;petal width (cm)&quot;:2.1,&quot;flower_type&quot;:&quot;virginica&quot;},{&quot;sepal length (cm)&quot;:6.7,&quot;sepal width (cm)&quot;:3.1,&quot;petal length (cm)&quot;:5.6,&quot;petal width (cm)&quot;:2.4,&quot;flower_type&quot;:&quot;virginica&quot;},{&quot;sepal length (cm)&quot;:6.9,&quot;sepal width (cm)&quot;:3.1,&quot;petal length (cm)&quot;:5.1,&quot;petal width (cm)&quot;:2.3,&quot;flower_type&quot;:&quot;virginica&quot;},{&quot;sepal length (cm)&quot;:5.8,&quot;sepal width (cm)&quot;:2.7,&quot;petal length (cm)&quot;:5.1,&quot;petal width (cm)&quot;:1.9,&quot;flower_type&quot;:&quot;virginica&quot;},{&quot;sepal length (cm)&quot;:6.8,&quot;sepal width (cm)&quot;:3.2,&quot;petal length (cm)&quot;:5.9,&quot;petal width (cm)&quot;:2.3,&quot;flower_type&quot;:&quot;virginica&quot;},{&quot;sepal length (cm)&quot;:6.7,&quot;sepal width (cm)&quot;:3.3,&quot;petal length (cm)&quot;:5.7,&quot;petal width (cm)&quot;:2.5,&quot;flower_type&quot;:&quot;virginica&quot;},{&quot;sepal length (cm)&quot;:6.7,&quot;sepal width (cm)&quot;:3.0,&quot;petal length (cm)&quot;:5.2,&quot;petal width (cm)&quot;:2.3,&quot;flower_type&quot;:&quot;virginica&quot;},{&quot;sepal length (cm)&quot;:6.3,&quot;sepal width (cm)&quot;:2.5,&quot;petal length (cm)&quot;:5.0,&quot;petal width (cm)&quot;:1.9,&quot;flower_type&quot;:&quot;virginica&quot;},{&quot;sepal length (cm)&quot;:6.5,&quot;sepal width (cm)&quot;:3.0,&quot;petal length (cm)&quot;:5.2,&quot;petal width (cm)&quot;:2.0,&quot;flower_type&quot;:&quot;virginica&quot;},{&quot;sepal length (cm)&quot;:6.2,&quot;sepal width (cm)&quot;:3.4,&quot;petal length (cm)&quot;:5.4,&quot;petal width (cm)&quot;:2.3,&quot;flower_type&quot;:&quot;virginica&quot;},{&quot;sepal length (cm)&quot;:5.9,&quot;sepal width (cm)&quot;:3.0,&quot;petal length (cm)&quot;:5.1,&quot;petal width (cm)&quot;:1.8,&quot;flower_type&quot;:&quot;virginica&quot;}];\n",
       "\n",
       "// Call function\n",
       "Graph(dataset);\n",
       "\n",
       "\n",
       "// Create function\n",
       "function Graph(data) {\n",
       "\n",
       "   \n",
       "    // Feed it through crossfilter  \n",
       "    var ndx = crossfilter(data);\n",
       "    \n",
       "    // for testing\n",
       "    //console.log(data);\n",
       "\n",
       "    //define a dimension\n",
       "    //Here we will group by state\n",
       "    var dim = ndx.dimension(function(d) {return d[&quot;flower_type&quot;]});\n",
       "\n",
       "    //Here we group by state and sum on column population\n",
       "    var g = dim.group().reduceSum(function(d){return d[&quot;sepal width (cm)&quot;];});\n",
       "    \n",
       "    //Lets create a row chart\n",
       "    RowChart.dimension(dim)\n",
       "            .group(g)\n",
       "            .width(500);      \n",
       "\n",
       "    dc.renderAll(); // render all charts on the page\n",
       "    \n",
       "}; // end graph function    \n",
       "    </script>' style='width:100%; height: 300px; border: none'></iframe>"
      ],
      "text/plain": [
       "<IPython.core.display.HTML object>"
      ]
     },
     "execution_count": 25,
     "metadata": {},
     "output_type": "execute_result"
    }
   ],
   "source": [
    "iframe(head.data + body.data + \"<script>\" + dc_plot.data + \"</script>\")"
   ]
  },
  {
   "cell_type": "code",
   "execution_count": null,
   "metadata": {
    "collapsed": true
   },
   "outputs": [],
   "source": []
  },
  {
   "cell_type": "code",
   "execution_count": null,
   "metadata": {
    "collapsed": true
   },
   "outputs": [],
   "source": []
  }
 ],
 "metadata": {
  "kernelspec": {
   "display_name": "Python 2",
   "language": "python",
   "name": "python2"
  },
  "language_info": {
   "codemirror_mode": {
    "name": "ipython",
    "version": 2
   },
   "file_extension": ".py",
   "mimetype": "text/x-python",
   "name": "python",
   "nbconvert_exporter": "python",
   "pygments_lexer": "ipython2",
   "version": "2.7.6"
  }
 },
 "nbformat": 4,
 "nbformat_minor": 0
}
