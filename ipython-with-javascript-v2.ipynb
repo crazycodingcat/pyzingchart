{
 "cells": [
  {
   "cell_type": "markdown",
   "metadata": {},
   "source": [
    "### New notes taken from latest [tutorial](https://bitbucket.org/hrojas/dc.js-in-ipython-notebooks) on how ipython notebook interacts with dc.js"
   ]
  },
  {
   "cell_type": "markdown",
   "metadata": {},
   "source": [
    "##Learning Notes\n",
    "\n",
    "### 1. Use `<iframe>` to host HTML - help resolve the duplicated tag-id issue\n",
    "### 2. The hosted page is an integrated html, including `<head>` and `<body>`\n",
    "### 3. Use jinja2 to interplot the strings\n",
    "\n",
    "\n",
    "The example below uses dc.js for iris data plotting"
   ]
  },
  {
   "cell_type": "code",
   "execution_count": 16,
   "metadata": {
    "collapsed": true
   },
   "outputs": [],
   "source": [
    "import pandas as pd\n",
    "import jinja2 \n",
    "from IPython.display import display, Javascript, HTML"
   ]
  },
  {
   "cell_type": "code",
   "execution_count": 23,
   "metadata": {
    "collapsed": false
   },
   "outputs": [
    {
     "data": {
      "text/html": [
       "<div style=\"max-height:1000px;max-width:1500px;overflow:auto;\">\n",
       "<table border=\"1\" class=\"dataframe\">\n",
       "  <thead>\n",
       "    <tr style=\"text-align: right;\">\n",
       "      <th></th>\n",
       "      <th>sepal length (cm)</th>\n",
       "      <th>sepal width (cm)</th>\n",
       "      <th>petal length (cm)</th>\n",
       "      <th>petal width (cm)</th>\n",
       "      <th>flower_type</th>\n",
       "    </tr>\n",
       "  </thead>\n",
       "  <tbody>\n",
       "    <tr>\n",
       "      <th>0</th>\n",
       "      <td>5.1</td>\n",
       "      <td>3.5</td>\n",
       "      <td>1.4</td>\n",
       "      <td>0.2</td>\n",
       "      <td>setosa</td>\n",
       "    </tr>\n",
       "    <tr>\n",
       "      <th>1</th>\n",
       "      <td>4.9</td>\n",
       "      <td>3.0</td>\n",
       "      <td>1.4</td>\n",
       "      <td>0.2</td>\n",
       "      <td>setosa</td>\n",
       "    </tr>\n",
       "    <tr>\n",
       "      <th>2</th>\n",
       "      <td>4.7</td>\n",
       "      <td>3.2</td>\n",
       "      <td>1.3</td>\n",
       "      <td>0.2</td>\n",
       "      <td>setosa</td>\n",
       "    </tr>\n",
       "  </tbody>\n",
       "</table>\n",
       "</div>"
      ],
      "text/plain": [
       "   sepal length (cm)  sepal width (cm)  petal length (cm)  petal width (cm)  \\\n",
       "0                5.1               3.5                1.4               0.2   \n",
       "1                4.9               3.0                1.4               0.2   \n",
       "2                4.7               3.2                1.3               0.2   \n",
       "\n",
       "  flower_type  \n",
       "0      setosa  \n",
       "1      setosa  \n",
       "2      setosa  "
      ]
     },
     "execution_count": 23,
     "metadata": {},
     "output_type": "execute_result"
    }
   ],
   "source": [
    "df = pd.read_csv(\"data/iris.csv\")\n",
    "df.head(n = 3)"
   ]
  },
  {
   "cell_type": "code",
   "execution_count": 26,
   "metadata": {
    "collapsed": true
   },
   "outputs": [],
   "source": [
    "def iframe(stuff):\n",
    "    return HTML(\"\"\"<iframe srcdoc='{srcdoc}' style='width:100%; height: 300px; border: none'></iframe>\"\"\"\n",
    "                .format(srcdoc = stuff))"
   ]
  },
  {
   "cell_type": "code",
   "execution_count": 27,
   "metadata": {
    "collapsed": true
   },
   "outputs": [],
   "source": [
    "head = HTML(\"\"\"\n",
    "<head>\n",
    "    <link rel=\"stylesheet\" type=\"text/css\" href=\"https://cdnjs.cloudflare.com/ajax/libs/dc/2.0.0-alpha.2/dc.css\"/> \n",
    "    <script src=\"https://cdnjs.cloudflare.com/ajax/libs/d3/3.4.8/d3.min.js\"></script> \n",
    "    <script src=\"https://cdnjs.cloudflare.com/ajax/libs/crossfilter/1.3.9/crossfilter.min.js\"></script> \n",
    "    <script src=\"https://cdnjs.cloudflare.com/ajax/libs/dc/1.7.0/dc.min.js\"></script> \n",
    "</head>\n",
    "\"\"\")\n",
    "\n",
    "body = HTML(\"\"\"\n",
    "<!-- A div anchor that can be identified by id -->\n",
    "<div id=\"rowchart\" class=\"dc-chart\">\n",
    "    <!-- Title or anything you want to add above the chart -->\n",
    "    <strong>Row Chart</strong>\n",
    "    <!--\n",
    "        This will create a reset button when ever the user selects a filter.\n",
    "        Clicking on the reset button will remove all filters.\n",
    "     -->\n",
    "    <a class=\"reset\" href=\"javascript:void(0);\" onclick=\"javascript:RowChart.filterAll();dc.redrawAll();\" style=\"display: none;\">reset</a>\n",
    "    <div class=\"clearfix\"></div>\n",
    "    <!--\n",
    "        dc.js will also automatically inject applied current filter value into\n",
    "        any html element with css class set to \"filter\"\n",
    "    -->\n",
    "    <span class=\"reset\" style=\"display: none;\">Current filter: <span class=\"filter\"></span></span>\n",
    "    <br>\n",
    "    </br>\n",
    "</div>\n",
    "\"\"\")\n",
    "\n",
    "dc_template = jinja2.Template(\"\"\"   \n",
    "\n",
    "// Create Global Variables\n",
    "var RowChart = dc.rowChart(\"#rowchart\");\n",
    "\n",
    "// Load data\n",
    "var dataset = {{ data }};\n",
    "\n",
    "// Call function\n",
    "Graph(dataset);\n",
    "\n",
    "\n",
    "// Create function\n",
    "function Graph(data) {\n",
    "\n",
    "   \n",
    "    // Feed it through crossfilter  \n",
    "    var ndx = crossfilter(data);\n",
    "    \n",
    "    // for testing\n",
    "    //console.log(data);\n",
    "\n",
    "    //define a dimension\n",
    "    //Here we will group by state\n",
    "    var dim = ndx.dimension(function(d) {return d[\"flower_type\"]});\n",
    "\n",
    "    //Here we group by state and sum on column population\n",
    "    var g = dim.group().reduceSum(function(d){return d[\"sepal width (cm)\"];});\n",
    "    \n",
    "    //Lets create a row chart\n",
    "    RowChart.dimension(dim)\n",
    "            .group(g)\n",
    "            .width(500);      \n",
    "\n",
    "    dc.renderAll(); // render all charts on the page\n",
    "    \n",
    "}; // end graph function    \n",
    "    \n",
    "\"\"\"\n",
    ")\n",
    "\n",
    "dc_plot = Javascript(dc_template.render(data = df.to_json(orient=\"records\")))"
   ]
  },
  {
   "cell_type": "code",
   "execution_count": 28,
   "metadata": {
    "collapsed": false
   },
   "outputs": [
    {
     "data": {
      "text/html": [
       "<iframe srcdoc='\n",
       "<head>\n",
       "    <link rel=\"stylesheet\" type=\"text/css\" href=\"https://cdnjs.cloudflare.com/ajax/libs/dc/2.0.0-alpha.2/dc.css\"/> \n",
       "    <script src=\"https://cdnjs.cloudflare.com/ajax/libs/d3/3.4.8/d3.min.js\"></script> \n",
       "    <script src=\"https://cdnjs.cloudflare.com/ajax/libs/crossfilter/1.3.9/crossfilter.min.js\"></script> \n",
       "    <script src=\"https://cdnjs.cloudflare.com/ajax/libs/dc/1.7.0/dc.min.js\"></script> \n",
       "</head>\n",
       "\n",
       "<!-- A div anchor that can be identified by id -->\n",
       "<div id=\"rowchart\" class=\"dc-chart\">\n",
       "    <!-- Title or anything you want to add above the chart -->\n",
       "    <strong>Row Chart</strong>\n",
       "    <!--\n",
       "        This will create a reset button when ever the user selects a filter.\n",
       "        Clicking on the reset button will remove all filters.\n",
       "     -->\n",
       "    <a class=\"reset\" href=\"javascript:void(0);\" onclick=\"javascript:RowChart.filterAll();dc.redrawAll();\" style=\"display: none;\">reset</a>\n",
       "    <div class=\"clearfix\"></div>\n",
       "    <!--\n",
       "        dc.js will also automatically inject applied current filter value into\n",
       "        any html element with css class set to \"filter\"\n",
       "    -->\n",
       "    <span class=\"reset\" style=\"display: none;\">Current filter: <span class=\"filter\"></span></span>\n",
       "    <br>\n",
       "    </br>\n",
       "</div>\n",
       "<script>   \n",
       "\n",
       "// Create Global Variables\n",
       "var RowChart = dc.rowChart(\"#rowchart\");\n",
       "\n",
       "// Load data\n",
       "var dataset = [{\"sepal length (cm)\":5.1,\"sepal width (cm)\":3.5,\"petal length (cm)\":1.4,\"petal width (cm)\":0.2,\"flower_type\":\"setosa\"},{\"sepal length (cm)\":4.9,\"sepal width (cm)\":3.0,\"petal length (cm)\":1.4,\"petal width (cm)\":0.2,\"flower_type\":\"setosa\"},{\"sepal length (cm)\":4.7,\"sepal width (cm)\":3.2,\"petal length (cm)\":1.3,\"petal width (cm)\":0.2,\"flower_type\":\"setosa\"},{\"sepal length (cm)\":4.6,\"sepal width (cm)\":3.1,\"petal length (cm)\":1.5,\"petal width (cm)\":0.2,\"flower_type\":\"setosa\"},{\"sepal length (cm)\":5.0,\"sepal width (cm)\":3.6,\"petal length (cm)\":1.4,\"petal width (cm)\":0.2,\"flower_type\":\"setosa\"},{\"sepal length (cm)\":5.4,\"sepal width (cm)\":3.9,\"petal length (cm)\":1.7,\"petal width (cm)\":0.4,\"flower_type\":\"setosa\"},{\"sepal length (cm)\":4.6,\"sepal width (cm)\":3.4,\"petal length (cm)\":1.4,\"petal width (cm)\":0.3,\"flower_type\":\"setosa\"},{\"sepal length (cm)\":5.0,\"sepal width (cm)\":3.4,\"petal length (cm)\":1.5,\"petal width (cm)\":0.2,\"flower_type\":\"setosa\"},{\"sepal length (cm)\":4.4,\"sepal width (cm)\":2.9,\"petal length (cm)\":1.4,\"petal width (cm)\":0.2,\"flower_type\":\"setosa\"},{\"sepal length (cm)\":4.9,\"sepal width (cm)\":3.1,\"petal length (cm)\":1.5,\"petal width (cm)\":0.1,\"flower_type\":\"setosa\"},{\"sepal length (cm)\":5.4,\"sepal width (cm)\":3.7,\"petal length (cm)\":1.5,\"petal width (cm)\":0.2,\"flower_type\":\"setosa\"},{\"sepal length (cm)\":4.8,\"sepal width (cm)\":3.4,\"petal length (cm)\":1.6,\"petal width (cm)\":0.2,\"flower_type\":\"setosa\"},{\"sepal length (cm)\":4.8,\"sepal width (cm)\":3.0,\"petal length (cm)\":1.4,\"petal width (cm)\":0.1,\"flower_type\":\"setosa\"},{\"sepal length (cm)\":4.3,\"sepal width (cm)\":3.0,\"petal length (cm)\":1.1,\"petal width (cm)\":0.1,\"flower_type\":\"setosa\"},{\"sepal length (cm)\":5.8,\"sepal width (cm)\":4.0,\"petal length (cm)\":1.2,\"petal width (cm)\":0.2,\"flower_type\":\"setosa\"},{\"sepal length (cm)\":5.7,\"sepal width (cm)\":4.4,\"petal length (cm)\":1.5,\"petal width (cm)\":0.4,\"flower_type\":\"setosa\"},{\"sepal length (cm)\":5.4,\"sepal width (cm)\":3.9,\"petal length (cm)\":1.3,\"petal width (cm)\":0.4,\"flower_type\":\"setosa\"},{\"sepal length (cm)\":5.1,\"sepal width (cm)\":3.5,\"petal length (cm)\":1.4,\"petal width (cm)\":0.3,\"flower_type\":\"setosa\"},{\"sepal length (cm)\":5.7,\"sepal width (cm)\":3.8,\"petal length (cm)\":1.7,\"petal width (cm)\":0.3,\"flower_type\":\"setosa\"},{\"sepal length (cm)\":5.1,\"sepal width (cm)\":3.8,\"petal length (cm)\":1.5,\"petal width (cm)\":0.3,\"flower_type\":\"setosa\"},{\"sepal length (cm)\":5.4,\"sepal width (cm)\":3.4,\"petal length (cm)\":1.7,\"petal width (cm)\":0.2,\"flower_type\":\"setosa\"},{\"sepal length (cm)\":5.1,\"sepal width (cm)\":3.7,\"petal length (cm)\":1.5,\"petal width (cm)\":0.4,\"flower_type\":\"setosa\"},{\"sepal length (cm)\":4.6,\"sepal width (cm)\":3.6,\"petal length (cm)\":1.0,\"petal width (cm)\":0.2,\"flower_type\":\"setosa\"},{\"sepal length (cm)\":5.1,\"sepal width (cm)\":3.3,\"petal length (cm)\":1.7,\"petal width (cm)\":0.5,\"flower_type\":\"setosa\"},{\"sepal length (cm)\":4.8,\"sepal width (cm)\":3.4,\"petal length (cm)\":1.9,\"petal width (cm)\":0.2,\"flower_type\":\"setosa\"},{\"sepal length (cm)\":5.0,\"sepal width (cm)\":3.0,\"petal length (cm)\":1.6,\"petal width (cm)\":0.2,\"flower_type\":\"setosa\"},{\"sepal length (cm)\":5.0,\"sepal width (cm)\":3.4,\"petal length (cm)\":1.6,\"petal width (cm)\":0.4,\"flower_type\":\"setosa\"},{\"sepal length (cm)\":5.2,\"sepal width (cm)\":3.5,\"petal length (cm)\":1.5,\"petal width (cm)\":0.2,\"flower_type\":\"setosa\"},{\"sepal length (cm)\":5.2,\"sepal width (cm)\":3.4,\"petal length (cm)\":1.4,\"petal width (cm)\":0.2,\"flower_type\":\"setosa\"},{\"sepal length (cm)\":4.7,\"sepal width (cm)\":3.2,\"petal length (cm)\":1.6,\"petal width (cm)\":0.2,\"flower_type\":\"setosa\"},{\"sepal length (cm)\":4.8,\"sepal width (cm)\":3.1,\"petal length (cm)\":1.6,\"petal width (cm)\":0.2,\"flower_type\":\"setosa\"},{\"sepal length (cm)\":5.4,\"sepal width (cm)\":3.4,\"petal length (cm)\":1.5,\"petal width (cm)\":0.4,\"flower_type\":\"setosa\"},{\"sepal length (cm)\":5.2,\"sepal width (cm)\":4.1,\"petal length (cm)\":1.5,\"petal width (cm)\":0.1,\"flower_type\":\"setosa\"},{\"sepal length (cm)\":5.5,\"sepal width (cm)\":4.2,\"petal length (cm)\":1.4,\"petal width (cm)\":0.2,\"flower_type\":\"setosa\"},{\"sepal length (cm)\":4.9,\"sepal width (cm)\":3.1,\"petal length (cm)\":1.5,\"petal width (cm)\":0.1,\"flower_type\":\"setosa\"},{\"sepal length (cm)\":5.0,\"sepal width (cm)\":3.2,\"petal length (cm)\":1.2,\"petal width (cm)\":0.2,\"flower_type\":\"setosa\"},{\"sepal length (cm)\":5.5,\"sepal width (cm)\":3.5,\"petal length (cm)\":1.3,\"petal width (cm)\":0.2,\"flower_type\":\"setosa\"},{\"sepal length (cm)\":4.9,\"sepal width (cm)\":3.1,\"petal length (cm)\":1.5,\"petal width (cm)\":0.1,\"flower_type\":\"setosa\"},{\"sepal length (cm)\":4.4,\"sepal width (cm)\":3.0,\"petal length (cm)\":1.3,\"petal width (cm)\":0.2,\"flower_type\":\"setosa\"},{\"sepal length (cm)\":5.1,\"sepal width (cm)\":3.4,\"petal length (cm)\":1.5,\"petal width (cm)\":0.2,\"flower_type\":\"setosa\"},{\"sepal length (cm)\":5.0,\"sepal width (cm)\":3.5,\"petal length (cm)\":1.3,\"petal width (cm)\":0.3,\"flower_type\":\"setosa\"},{\"sepal length (cm)\":4.5,\"sepal width (cm)\":2.3,\"petal length (cm)\":1.3,\"petal width (cm)\":0.3,\"flower_type\":\"setosa\"},{\"sepal length (cm)\":4.4,\"sepal width (cm)\":3.2,\"petal length (cm)\":1.3,\"petal width (cm)\":0.2,\"flower_type\":\"setosa\"},{\"sepal length (cm)\":5.0,\"sepal width (cm)\":3.5,\"petal length (cm)\":1.6,\"petal width (cm)\":0.6,\"flower_type\":\"setosa\"},{\"sepal length (cm)\":5.1,\"sepal width (cm)\":3.8,\"petal length (cm)\":1.9,\"petal width (cm)\":0.4,\"flower_type\":\"setosa\"},{\"sepal length (cm)\":4.8,\"sepal width (cm)\":3.0,\"petal length (cm)\":1.4,\"petal width (cm)\":0.3,\"flower_type\":\"setosa\"},{\"sepal length (cm)\":5.1,\"sepal width (cm)\":3.8,\"petal length (cm)\":1.6,\"petal width (cm)\":0.2,\"flower_type\":\"setosa\"},{\"sepal length (cm)\":4.6,\"sepal width (cm)\":3.2,\"petal length (cm)\":1.4,\"petal width (cm)\":0.2,\"flower_type\":\"setosa\"},{\"sepal length (cm)\":5.3,\"sepal width (cm)\":3.7,\"petal length (cm)\":1.5,\"petal width (cm)\":0.2,\"flower_type\":\"setosa\"},{\"sepal length (cm)\":5.0,\"sepal width (cm)\":3.3,\"petal length (cm)\":1.4,\"petal width (cm)\":0.2,\"flower_type\":\"setosa\"},{\"sepal length (cm)\":7.0,\"sepal width (cm)\":3.2,\"petal length (cm)\":4.7,\"petal width (cm)\":1.4,\"flower_type\":\"versicolor\"},{\"sepal length (cm)\":6.4,\"sepal width (cm)\":3.2,\"petal length (cm)\":4.5,\"petal width (cm)\":1.5,\"flower_type\":\"versicolor\"},{\"sepal length (cm)\":6.9,\"sepal width (cm)\":3.1,\"petal length (cm)\":4.9,\"petal width (cm)\":1.5,\"flower_type\":\"versicolor\"},{\"sepal length (cm)\":5.5,\"sepal width (cm)\":2.3,\"petal length (cm)\":4.0,\"petal width (cm)\":1.3,\"flower_type\":\"versicolor\"},{\"sepal length (cm)\":6.5,\"sepal width (cm)\":2.8,\"petal length (cm)\":4.6,\"petal width (cm)\":1.5,\"flower_type\":\"versicolor\"},{\"sepal length (cm)\":5.7,\"sepal width (cm)\":2.8,\"petal length (cm)\":4.5,\"petal width (cm)\":1.3,\"flower_type\":\"versicolor\"},{\"sepal length (cm)\":6.3,\"sepal width (cm)\":3.3,\"petal length (cm)\":4.7,\"petal width (cm)\":1.6,\"flower_type\":\"versicolor\"},{\"sepal length (cm)\":4.9,\"sepal width (cm)\":2.4,\"petal length (cm)\":3.3,\"petal width (cm)\":1.0,\"flower_type\":\"versicolor\"},{\"sepal length (cm)\":6.6,\"sepal width (cm)\":2.9,\"petal length (cm)\":4.6,\"petal width (cm)\":1.3,\"flower_type\":\"versicolor\"},{\"sepal length (cm)\":5.2,\"sepal width (cm)\":2.7,\"petal length (cm)\":3.9,\"petal width (cm)\":1.4,\"flower_type\":\"versicolor\"},{\"sepal length (cm)\":5.0,\"sepal width (cm)\":2.0,\"petal length (cm)\":3.5,\"petal width (cm)\":1.0,\"flower_type\":\"versicolor\"},{\"sepal length (cm)\":5.9,\"sepal width (cm)\":3.0,\"petal length (cm)\":4.2,\"petal width (cm)\":1.5,\"flower_type\":\"versicolor\"},{\"sepal length (cm)\":6.0,\"sepal width (cm)\":2.2,\"petal length (cm)\":4.0,\"petal width (cm)\":1.0,\"flower_type\":\"versicolor\"},{\"sepal length (cm)\":6.1,\"sepal width (cm)\":2.9,\"petal length (cm)\":4.7,\"petal width (cm)\":1.4,\"flower_type\":\"versicolor\"},{\"sepal length (cm)\":5.6,\"sepal width (cm)\":2.9,\"petal length (cm)\":3.6,\"petal width (cm)\":1.3,\"flower_type\":\"versicolor\"},{\"sepal length (cm)\":6.7,\"sepal width (cm)\":3.1,\"petal length (cm)\":4.4,\"petal width (cm)\":1.4,\"flower_type\":\"versicolor\"},{\"sepal length (cm)\":5.6,\"sepal width (cm)\":3.0,\"petal length (cm)\":4.5,\"petal width (cm)\":1.5,\"flower_type\":\"versicolor\"},{\"sepal length (cm)\":5.8,\"sepal width (cm)\":2.7,\"petal length (cm)\":4.1,\"petal width (cm)\":1.0,\"flower_type\":\"versicolor\"},{\"sepal length (cm)\":6.2,\"sepal width (cm)\":2.2,\"petal length (cm)\":4.5,\"petal width (cm)\":1.5,\"flower_type\":\"versicolor\"},{\"sepal length (cm)\":5.6,\"sepal width (cm)\":2.5,\"petal length (cm)\":3.9,\"petal width (cm)\":1.1,\"flower_type\":\"versicolor\"},{\"sepal length (cm)\":5.9,\"sepal width (cm)\":3.2,\"petal length (cm)\":4.8,\"petal width (cm)\":1.8,\"flower_type\":\"versicolor\"},{\"sepal length (cm)\":6.1,\"sepal width (cm)\":2.8,\"petal length (cm)\":4.0,\"petal width (cm)\":1.3,\"flower_type\":\"versicolor\"},{\"sepal length (cm)\":6.3,\"sepal width (cm)\":2.5,\"petal length (cm)\":4.9,\"petal width (cm)\":1.5,\"flower_type\":\"versicolor\"},{\"sepal length (cm)\":6.1,\"sepal width (cm)\":2.8,\"petal length (cm)\":4.7,\"petal width (cm)\":1.2,\"flower_type\":\"versicolor\"},{\"sepal length (cm)\":6.4,\"sepal width (cm)\":2.9,\"petal length (cm)\":4.3,\"petal width (cm)\":1.3,\"flower_type\":\"versicolor\"},{\"sepal length (cm)\":6.6,\"sepal width (cm)\":3.0,\"petal length (cm)\":4.4,\"petal width (cm)\":1.4,\"flower_type\":\"versicolor\"},{\"sepal length (cm)\":6.8,\"sepal width (cm)\":2.8,\"petal length (cm)\":4.8,\"petal width (cm)\":1.4,\"flower_type\":\"versicolor\"},{\"sepal length (cm)\":6.7,\"sepal width (cm)\":3.0,\"petal length (cm)\":5.0,\"petal width (cm)\":1.7,\"flower_type\":\"versicolor\"},{\"sepal length (cm)\":6.0,\"sepal width (cm)\":2.9,\"petal length (cm)\":4.5,\"petal width (cm)\":1.5,\"flower_type\":\"versicolor\"},{\"sepal length (cm)\":5.7,\"sepal width (cm)\":2.6,\"petal length (cm)\":3.5,\"petal width (cm)\":1.0,\"flower_type\":\"versicolor\"},{\"sepal length (cm)\":5.5,\"sepal width (cm)\":2.4,\"petal length (cm)\":3.8,\"petal width (cm)\":1.1,\"flower_type\":\"versicolor\"},{\"sepal length (cm)\":5.5,\"sepal width (cm)\":2.4,\"petal length (cm)\":3.7,\"petal width (cm)\":1.0,\"flower_type\":\"versicolor\"},{\"sepal length (cm)\":5.8,\"sepal width (cm)\":2.7,\"petal length (cm)\":3.9,\"petal width (cm)\":1.2,\"flower_type\":\"versicolor\"},{\"sepal length (cm)\":6.0,\"sepal width (cm)\":2.7,\"petal length (cm)\":5.1,\"petal width (cm)\":1.6,\"flower_type\":\"versicolor\"},{\"sepal length (cm)\":5.4,\"sepal width (cm)\":3.0,\"petal length (cm)\":4.5,\"petal width (cm)\":1.5,\"flower_type\":\"versicolor\"},{\"sepal length (cm)\":6.0,\"sepal width (cm)\":3.4,\"petal length (cm)\":4.5,\"petal width (cm)\":1.6,\"flower_type\":\"versicolor\"},{\"sepal length (cm)\":6.7,\"sepal width (cm)\":3.1,\"petal length (cm)\":4.7,\"petal width (cm)\":1.5,\"flower_type\":\"versicolor\"},{\"sepal length (cm)\":6.3,\"sepal width (cm)\":2.3,\"petal length (cm)\":4.4,\"petal width (cm)\":1.3,\"flower_type\":\"versicolor\"},{\"sepal length (cm)\":5.6,\"sepal width (cm)\":3.0,\"petal length (cm)\":4.1,\"petal width (cm)\":1.3,\"flower_type\":\"versicolor\"},{\"sepal length (cm)\":5.5,\"sepal width (cm)\":2.5,\"petal length (cm)\":4.0,\"petal width (cm)\":1.3,\"flower_type\":\"versicolor\"},{\"sepal length (cm)\":5.5,\"sepal width (cm)\":2.6,\"petal length (cm)\":4.4,\"petal width (cm)\":1.2,\"flower_type\":\"versicolor\"},{\"sepal length (cm)\":6.1,\"sepal width (cm)\":3.0,\"petal length (cm)\":4.6,\"petal width (cm)\":1.4,\"flower_type\":\"versicolor\"},{\"sepal length (cm)\":5.8,\"sepal width (cm)\":2.6,\"petal length (cm)\":4.0,\"petal width (cm)\":1.2,\"flower_type\":\"versicolor\"},{\"sepal length (cm)\":5.0,\"sepal width (cm)\":2.3,\"petal length (cm)\":3.3,\"petal width (cm)\":1.0,\"flower_type\":\"versicolor\"},{\"sepal length (cm)\":5.6,\"sepal width (cm)\":2.7,\"petal length (cm)\":4.2,\"petal width (cm)\":1.3,\"flower_type\":\"versicolor\"},{\"sepal length (cm)\":5.7,\"sepal width (cm)\":3.0,\"petal length (cm)\":4.2,\"petal width (cm)\":1.2,\"flower_type\":\"versicolor\"},{\"sepal length (cm)\":5.7,\"sepal width (cm)\":2.9,\"petal length (cm)\":4.2,\"petal width (cm)\":1.3,\"flower_type\":\"versicolor\"},{\"sepal length (cm)\":6.2,\"sepal width (cm)\":2.9,\"petal length (cm)\":4.3,\"petal width (cm)\":1.3,\"flower_type\":\"versicolor\"},{\"sepal length (cm)\":5.1,\"sepal width (cm)\":2.5,\"petal length (cm)\":3.0,\"petal width (cm)\":1.1,\"flower_type\":\"versicolor\"},{\"sepal length (cm)\":5.7,\"sepal width (cm)\":2.8,\"petal length (cm)\":4.1,\"petal width (cm)\":1.3,\"flower_type\":\"versicolor\"},{\"sepal length (cm)\":6.3,\"sepal width (cm)\":3.3,\"petal length (cm)\":6.0,\"petal width (cm)\":2.5,\"flower_type\":\"virginica\"},{\"sepal length (cm)\":5.8,\"sepal width (cm)\":2.7,\"petal length (cm)\":5.1,\"petal width (cm)\":1.9,\"flower_type\":\"virginica\"},{\"sepal length (cm)\":7.1,\"sepal width (cm)\":3.0,\"petal length (cm)\":5.9,\"petal width (cm)\":2.1,\"flower_type\":\"virginica\"},{\"sepal length (cm)\":6.3,\"sepal width (cm)\":2.9,\"petal length (cm)\":5.6,\"petal width (cm)\":1.8,\"flower_type\":\"virginica\"},{\"sepal length (cm)\":6.5,\"sepal width (cm)\":3.0,\"petal length (cm)\":5.8,\"petal width (cm)\":2.2,\"flower_type\":\"virginica\"},{\"sepal length (cm)\":7.6,\"sepal width (cm)\":3.0,\"petal length (cm)\":6.6,\"petal width (cm)\":2.1,\"flower_type\":\"virginica\"},{\"sepal length (cm)\":4.9,\"sepal width (cm)\":2.5,\"petal length (cm)\":4.5,\"petal width (cm)\":1.7,\"flower_type\":\"virginica\"},{\"sepal length (cm)\":7.3,\"sepal width (cm)\":2.9,\"petal length (cm)\":6.3,\"petal width (cm)\":1.8,\"flower_type\":\"virginica\"},{\"sepal length (cm)\":6.7,\"sepal width (cm)\":2.5,\"petal length (cm)\":5.8,\"petal width (cm)\":1.8,\"flower_type\":\"virginica\"},{\"sepal length (cm)\":7.2,\"sepal width (cm)\":3.6,\"petal length (cm)\":6.1,\"petal width (cm)\":2.5,\"flower_type\":\"virginica\"},{\"sepal length (cm)\":6.5,\"sepal width (cm)\":3.2,\"petal length (cm)\":5.1,\"petal width (cm)\":2.0,\"flower_type\":\"virginica\"},{\"sepal length (cm)\":6.4,\"sepal width (cm)\":2.7,\"petal length (cm)\":5.3,\"petal width (cm)\":1.9,\"flower_type\":\"virginica\"},{\"sepal length (cm)\":6.8,\"sepal width (cm)\":3.0,\"petal length (cm)\":5.5,\"petal width (cm)\":2.1,\"flower_type\":\"virginica\"},{\"sepal length (cm)\":5.7,\"sepal width (cm)\":2.5,\"petal length (cm)\":5.0,\"petal width (cm)\":2.0,\"flower_type\":\"virginica\"},{\"sepal length (cm)\":5.8,\"sepal width (cm)\":2.8,\"petal length (cm)\":5.1,\"petal width (cm)\":2.4,\"flower_type\":\"virginica\"},{\"sepal length (cm)\":6.4,\"sepal width (cm)\":3.2,\"petal length (cm)\":5.3,\"petal width (cm)\":2.3,\"flower_type\":\"virginica\"},{\"sepal length (cm)\":6.5,\"sepal width (cm)\":3.0,\"petal length (cm)\":5.5,\"petal width (cm)\":1.8,\"flower_type\":\"virginica\"},{\"sepal length (cm)\":7.7,\"sepal width (cm)\":3.8,\"petal length (cm)\":6.7,\"petal width (cm)\":2.2,\"flower_type\":\"virginica\"},{\"sepal length (cm)\":7.7,\"sepal width (cm)\":2.6,\"petal length (cm)\":6.9,\"petal width (cm)\":2.3,\"flower_type\":\"virginica\"},{\"sepal length (cm)\":6.0,\"sepal width (cm)\":2.2,\"petal length (cm)\":5.0,\"petal width (cm)\":1.5,\"flower_type\":\"virginica\"},{\"sepal length (cm)\":6.9,\"sepal width (cm)\":3.2,\"petal length (cm)\":5.7,\"petal width (cm)\":2.3,\"flower_type\":\"virginica\"},{\"sepal length (cm)\":5.6,\"sepal width (cm)\":2.8,\"petal length (cm)\":4.9,\"petal width (cm)\":2.0,\"flower_type\":\"virginica\"},{\"sepal length (cm)\":7.7,\"sepal width (cm)\":2.8,\"petal length (cm)\":6.7,\"petal width (cm)\":2.0,\"flower_type\":\"virginica\"},{\"sepal length (cm)\":6.3,\"sepal width (cm)\":2.7,\"petal length (cm)\":4.9,\"petal width (cm)\":1.8,\"flower_type\":\"virginica\"},{\"sepal length (cm)\":6.7,\"sepal width (cm)\":3.3,\"petal length (cm)\":5.7,\"petal width (cm)\":2.1,\"flower_type\":\"virginica\"},{\"sepal length (cm)\":7.2,\"sepal width (cm)\":3.2,\"petal length (cm)\":6.0,\"petal width (cm)\":1.8,\"flower_type\":\"virginica\"},{\"sepal length (cm)\":6.2,\"sepal width (cm)\":2.8,\"petal length (cm)\":4.8,\"petal width (cm)\":1.8,\"flower_type\":\"virginica\"},{\"sepal length (cm)\":6.1,\"sepal width (cm)\":3.0,\"petal length (cm)\":4.9,\"petal width (cm)\":1.8,\"flower_type\":\"virginica\"},{\"sepal length (cm)\":6.4,\"sepal width (cm)\":2.8,\"petal length (cm)\":5.6,\"petal width (cm)\":2.1,\"flower_type\":\"virginica\"},{\"sepal length (cm)\":7.2,\"sepal width (cm)\":3.0,\"petal length (cm)\":5.8,\"petal width (cm)\":1.6,\"flower_type\":\"virginica\"},{\"sepal length (cm)\":7.4,\"sepal width (cm)\":2.8,\"petal length (cm)\":6.1,\"petal width (cm)\":1.9,\"flower_type\":\"virginica\"},{\"sepal length (cm)\":7.9,\"sepal width (cm)\":3.8,\"petal length (cm)\":6.4,\"petal width (cm)\":2.0,\"flower_type\":\"virginica\"},{\"sepal length (cm)\":6.4,\"sepal width (cm)\":2.8,\"petal length (cm)\":5.6,\"petal width (cm)\":2.2,\"flower_type\":\"virginica\"},{\"sepal length (cm)\":6.3,\"sepal width (cm)\":2.8,\"petal length (cm)\":5.1,\"petal width (cm)\":1.5,\"flower_type\":\"virginica\"},{\"sepal length (cm)\":6.1,\"sepal width (cm)\":2.6,\"petal length (cm)\":5.6,\"petal width (cm)\":1.4,\"flower_type\":\"virginica\"},{\"sepal length (cm)\":7.7,\"sepal width (cm)\":3.0,\"petal length (cm)\":6.1,\"petal width (cm)\":2.3,\"flower_type\":\"virginica\"},{\"sepal length (cm)\":6.3,\"sepal width (cm)\":3.4,\"petal length (cm)\":5.6,\"petal width (cm)\":2.4,\"flower_type\":\"virginica\"},{\"sepal length (cm)\":6.4,\"sepal width (cm)\":3.1,\"petal length (cm)\":5.5,\"petal width (cm)\":1.8,\"flower_type\":\"virginica\"},{\"sepal length (cm)\":6.0,\"sepal width (cm)\":3.0,\"petal length (cm)\":4.8,\"petal width (cm)\":1.8,\"flower_type\":\"virginica\"},{\"sepal length (cm)\":6.9,\"sepal width (cm)\":3.1,\"petal length (cm)\":5.4,\"petal width (cm)\":2.1,\"flower_type\":\"virginica\"},{\"sepal length (cm)\":6.7,\"sepal width (cm)\":3.1,\"petal length (cm)\":5.6,\"petal width (cm)\":2.4,\"flower_type\":\"virginica\"},{\"sepal length (cm)\":6.9,\"sepal width (cm)\":3.1,\"petal length (cm)\":5.1,\"petal width (cm)\":2.3,\"flower_type\":\"virginica\"},{\"sepal length (cm)\":5.8,\"sepal width (cm)\":2.7,\"petal length (cm)\":5.1,\"petal width (cm)\":1.9,\"flower_type\":\"virginica\"},{\"sepal length (cm)\":6.8,\"sepal width (cm)\":3.2,\"petal length (cm)\":5.9,\"petal width (cm)\":2.3,\"flower_type\":\"virginica\"},{\"sepal length (cm)\":6.7,\"sepal width (cm)\":3.3,\"petal length (cm)\":5.7,\"petal width (cm)\":2.5,\"flower_type\":\"virginica\"},{\"sepal length (cm)\":6.7,\"sepal width (cm)\":3.0,\"petal length (cm)\":5.2,\"petal width (cm)\":2.3,\"flower_type\":\"virginica\"},{\"sepal length (cm)\":6.3,\"sepal width (cm)\":2.5,\"petal length (cm)\":5.0,\"petal width (cm)\":1.9,\"flower_type\":\"virginica\"},{\"sepal length (cm)\":6.5,\"sepal width (cm)\":3.0,\"petal length (cm)\":5.2,\"petal width (cm)\":2.0,\"flower_type\":\"virginica\"},{\"sepal length (cm)\":6.2,\"sepal width (cm)\":3.4,\"petal length (cm)\":5.4,\"petal width (cm)\":2.3,\"flower_type\":\"virginica\"},{\"sepal length (cm)\":5.9,\"sepal width (cm)\":3.0,\"petal length (cm)\":5.1,\"petal width (cm)\":1.8,\"flower_type\":\"virginica\"}];\n",
       "\n",
       "// Call function\n",
       "Graph(dataset);\n",
       "\n",
       "\n",
       "// Create function\n",
       "function Graph(data) {\n",
       "\n",
       "   \n",
       "    // Feed it through crossfilter  \n",
       "    var ndx = crossfilter(data);\n",
       "    \n",
       "    // for testing\n",
       "    //console.log(data);\n",
       "\n",
       "    //define a dimension\n",
       "    //Here we will group by state\n",
       "    var dim = ndx.dimension(function(d) {return d[\"flower_type\"]});\n",
       "\n",
       "    //Here we group by state and sum on column population\n",
       "    var g = dim.group().reduceSum(function(d){return d[\"sepal width (cm)\"];});\n",
       "    \n",
       "    //Lets create a row chart\n",
       "    RowChart.dimension(dim)\n",
       "            .group(g)\n",
       "            .width(500);      \n",
       "\n",
       "    dc.renderAll(); // render all charts on the page\n",
       "    \n",
       "}; // end graph function    \n",
       "    </script>' style='width:100%; height: 300px; border: none'></iframe>"
      ],
      "text/plain": [
       "<IPython.core.display.HTML object>"
      ]
     },
     "execution_count": 28,
     "metadata": {},
     "output_type": "execute_result"
    }
   ],
   "source": [
    "iframe(head.data + body.data + \"<script>\" + dc_plot.data + \"</script>\")"
   ]
  },
  {
   "cell_type": "code",
   "execution_count": null,
   "metadata": {
    "collapsed": true
   },
   "outputs": [],
   "source": []
  },
  {
   "cell_type": "code",
   "execution_count": null,
   "metadata": {
    "collapsed": true
   },
   "outputs": [],
   "source": []
  }
 ],
 "metadata": {
  "kernelspec": {
   "display_name": "Python 2",
   "language": "python",
   "name": "python2"
  },
  "language_info": {
   "codemirror_mode": {
    "name": "ipython",
    "version": 2
   },
   "file_extension": ".py",
   "mimetype": "text/x-python",
   "name": "python",
   "nbconvert_exporter": "python",
   "pygments_lexer": "ipython2",
   "version": "2.7.6"
  }
 },
 "nbformat": 4,
 "nbformat_minor": 0
}
